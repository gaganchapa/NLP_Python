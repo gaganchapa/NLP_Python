{
  "nbformat": 4,
  "nbformat_minor": 0,
  "metadata": {
    "colab": {
      "provenance": [],
      "authorship_tag": "ABX9TyN8jEDGAqHLDsuUcRanGUIz",
      "include_colab_link": true
    },
    "kernelspec": {
      "name": "python3",
      "display_name": "Python 3"
    },
    "language_info": {
      "name": "python"
    }
  },
  "cells": [
    {
      "cell_type": "markdown",
      "metadata": {
        "id": "view-in-github",
        "colab_type": "text"
      },
      "source": [
        "<a href=\"https://colab.research.google.com/github/gaganchapa/NLP_Python/blob/main/NLP.ipynb\" target=\"_parent\"><img src=\"https://colab.research.google.com/assets/colab-badge.svg\" alt=\"Open In Colab\"/></a>"
      ]
    },
    {
      "cell_type": "markdown",
      "source": [
        "Basics"
      ],
      "metadata": {
        "id": "WS0vN4pKa5SO"
      }
    },
    {
      "cell_type": "code",
      "execution_count": 1,
      "metadata": {
        "colab": {
          "base_uri": "https://localhost:8080/"
        },
        "id": "1f434dU0O0qM",
        "outputId": "2098dd2f-3cd1-4f12-b776-cf70d59cfb5c"
      },
      "outputs": [
        {
          "output_type": "stream",
          "name": "stdout",
          "text": [
            "Looking in indexes: https://pypi.org/simple, https://us-python.pkg.dev/colab-wheels/public/simple/\n",
            "Requirement already satisfied: nltk in /usr/local/lib/python3.9/dist-packages (3.8.1)\n",
            "Requirement already satisfied: joblib in /usr/local/lib/python3.9/dist-packages (from nltk) (1.1.1)\n",
            "Requirement already satisfied: tqdm in /usr/local/lib/python3.9/dist-packages (from nltk) (4.65.0)\n",
            "Requirement already satisfied: click in /usr/local/lib/python3.9/dist-packages (from nltk) (8.1.3)\n",
            "Requirement already satisfied: regex>=2021.8.3 in /usr/local/lib/python3.9/dist-packages (from nltk) (2022.10.31)\n"
          ]
        }
      ],
      "source": [
        "!pip install nltk"
      ]
    },
    {
      "cell_type": "code",
      "source": [
        "import nltk\n",
        "txt = \"Hi, Gagan Dwaz. how are you\""
      ],
      "metadata": {
        "id": "9PovsOogO3sN"
      },
      "execution_count": 11,
      "outputs": []
    },
    {
      "cell_type": "code",
      "source": [
        "txt.split(\",\")"
      ],
      "metadata": {
        "colab": {
          "base_uri": "https://localhost:8080/"
        },
        "id": "IUIu7EVJO9iX",
        "outputId": "0e23e86c-2fe0-4977-92fd-9a29d524ecc9"
      },
      "execution_count": 12,
      "outputs": [
        {
          "output_type": "execute_result",
          "data": {
            "text/plain": [
              "['Hi', ' Gagan Dwaz. how are you']"
            ]
          },
          "metadata": {},
          "execution_count": 12
        }
      ]
    },
    {
      "cell_type": "code",
      "source": [
        "len(txt.split(\",\"))"
      ],
      "metadata": {
        "colab": {
          "base_uri": "https://localhost:8080/"
        },
        "id": "ZavmYfqDPEnu",
        "outputId": "30985926-11b8-4e0e-8fd2-ea0571c93a4c"
      },
      "execution_count": 13,
      "outputs": [
        {
          "output_type": "execute_result",
          "data": {
            "text/plain": [
              "2"
            ]
          },
          "metadata": {},
          "execution_count": 13
        }
      ]
    },
    {
      "cell_type": "code",
      "source": [
        "from nltk.tokenize import word_tokenize,sent_tokenize\n",
        "nltk.download('punkt')"
      ],
      "metadata": {
        "colab": {
          "base_uri": "https://localhost:8080/"
        },
        "id": "-qtWs0M5PJxi",
        "outputId": "7beaa261-2030-4a7f-8500-ffdfea4b5871"
      },
      "execution_count": 14,
      "outputs": [
        {
          "output_type": "stream",
          "name": "stderr",
          "text": [
            "[nltk_data] Downloading package punkt to /root/nltk_data...\n",
            "[nltk_data]   Package punkt is already up-to-date!\n"
          ]
        },
        {
          "output_type": "execute_result",
          "data": {
            "text/plain": [
              "True"
            ]
          },
          "metadata": {},
          "execution_count": 14
        }
      ]
    },
    {
      "cell_type": "code",
      "source": [
        "word_tokenize(txt)"
      ],
      "metadata": {
        "colab": {
          "base_uri": "https://localhost:8080/"
        },
        "id": "KHNrPuDaXnpx",
        "outputId": "fd47d16b-2fdb-4ff8-92a8-9e3a6638957a"
      },
      "execution_count": 15,
      "outputs": [
        {
          "output_type": "execute_result",
          "data": {
            "text/plain": [
              "['Hi', ',', 'Gagan', 'Dwaz', '.', 'how', 'are', 'you']"
            ]
          },
          "metadata": {},
          "execution_count": 15
        }
      ]
    },
    {
      "cell_type": "code",
      "source": [
        "sent_tokenize(txt)"
      ],
      "metadata": {
        "colab": {
          "base_uri": "https://localhost:8080/"
        },
        "id": "kJL_nQZLX54O",
        "outputId": "da95569c-d6ae-4d70-d59c-075812b4e287"
      },
      "execution_count": 16,
      "outputs": [
        {
          "output_type": "execute_result",
          "data": {
            "text/plain": [
              "['Hi, Gagan Dwaz.', 'how are you']"
            ]
          },
          "metadata": {},
          "execution_count": 16
        }
      ]
    },
    {
      "cell_type": "code",
      "source": [
        "for word in word_tokenize(txt):\n",
        "  if(word !=\".\"):\n",
        "    print(word)"
      ],
      "metadata": {
        "colab": {
          "base_uri": "https://localhost:8080/"
        },
        "id": "amEEEKWCYC5Q",
        "outputId": "aa552db8-b71f-448f-98ef-b5a724076a19"
      },
      "execution_count": 17,
      "outputs": [
        {
          "output_type": "stream",
          "name": "stdout",
          "text": [
            "Hi\n",
            ",\n",
            "Gagan\n",
            "Dwaz\n",
            "how\n",
            "are\n",
            "you\n"
          ]
        }
      ]
    },
    {
      "cell_type": "markdown",
      "source": [
        "![image.png](data:image/png;base64,iVBORw0KGgoAAAANSUhEUgAAAzoAAAE3CAYAAABisDRDAAAAAXNSR0IArs4c6QAAAARnQU1BAACxjwv8YQUAAAAJcEhZcwAADsMAAA7DAcdvqGQAAN2bSURBVHhe7J0JfFTV+fd/mWwkQFgTdoQAIiBUKFoiqCACyiqLUAVFARdAW0FbDGrFogT/rehbQVpBrApVdkFBRRFUILRSaEGgCEFkJ0GWsGW/7/Oce+7MnZk7k0kICYTny+eSmXPPPctzznnOee5ZJswgIAiCIAiCIAiCUI5w6b+CIAiCIAiCIAjlBjF0BEEQBEEQBEEod4ihIwiCIAiCIAhCuUMMHUEQBEEQBEEQyh1i6AiCIAiCIAiCUO4QQ0cQBEEQBEEQhHKHGDqCIAiCIAiCIJQ7xNARBEEQBEEQBKHcIYaOIAiCIAiCIAjlDjF0BEEQBEEQBEEod4ihIwiCIAiCIAhCuUMMHUEQBEEQBEEQyh1i6AiCIAiCIAiCUO4QQ0cQBEEQBEEQhHKHGDqCIAiCIAiCIJQ7xNARBEEQBEEQBKHcIYaOIAiCIAiCIAjlDjF0BEEQBEEQBEEod4ihIwiCIAiCIAhCuUMMHUEQBEEQBEEQyh1lb+jkZ2LP6tkYN7wvOrRugiZN+GqJDn2GYdxrC5Calqk9CpeCzHUpGNS+CVp2HInZ27K1q4D8A1j+RFuqi50xY5t2K0G2TLXqehOkbNKOwhVFdtoCjOvYEk3aD8KklQe065VJecqLIAiCIFiUraHz03KMa18Fze74HWa99zH++f1e7N3L107885OP8d4fhuDmplXQdvgMpGboZ3zJ2IIFs6Zh2irpnItM/hZMu2UiFh8Gsv43BykvLoBI0SQ79W30m/4foO1I9G2tHUuYvSeA81TfhcuJbBxY/T6mvfY+tgR9x5KBZS8n4/UdWcDhxXix15tIvQzfE2T/tBbvvzYN728KlpkrIy+CIAiCUFTKztA5uAADG/XD6zTIrohTuPv597Ds2+3YfyIdu79bg/nTRqD1WfJXrSFOvPc4Ji3aYT7nw4HVr2LII09hxubj2kUoNnk8zBOATHw+/331qfOv70QD9Um4KsjfjHfueABPjV+J3ee1W2GEm38ux7azee5IPDD+KazdF2LqLuO8CIIgCEJRKSNDJwML/pCMJdVqomr6YMzclYW5f7wffTu1RINq8WjavjMGj3sNa09vx/yHr8N+PIzxv26pn/Xm+L5U/UkoMuFtMf7bKRhYF6hw3QgkTx6MpvrWVc1PyzB9+hFUwoPo1zVeOwpXBRkH8ANi6Z8e8QckHv2eTcGTLSsAtQbihRVj0Dla37psyMCBNP0xKFdCXgRBEASh6JSNoZP2Gd545zTq5x7HL954AfdfG6BXjWuJwa98jqxzb6FHNe3mRQZ2/6A/CsUirlMyFm1Kw471b2NUaxndMAfWLcMXuIAGLz4SoN4J5ZaDaZiHKMTor8GIbjIYr63fgbRNizCp5+U473cQaV/zjHnhXP55EQRBEISiUyaGTsbWtViHWOSdBXp0cJ6psRMdqz/4kYGMtGD3BaGI5O/A0qmL1cfBt7eDmH5XF5np6fR/hPnlSiczHYf2npQ6LAiCIFy1lM2MTj7/Z6iPF0V2Oo5+cwKVovR3QbhYtizDb7+nv9f/BYOTZIh4tZF+nN+csKETZjpcyWSkYzupeKnFgiAIwtVK2R1GQFSoBnz+eWoRN75mYsvMMeh7d190atEHL9WvjirVE4FX2rmP6y302N7MPVg7bxLG9OmAltpvy459MWbqAmw5qv04sSnFDLv1JPepRBkbZ2PcECuctugx2v+EuIxNC5Ay2nN8dtvuwzBuVioylMHnwNEFGKnCG4T3fzKdsn9YTmH0QFvl3hIdhkzCgh+8JZeZthaznx6GHu3NeMw8LceOIAcuZSwaqfzy5SQv6xjkln/0lFPmDk6L7Tjw9j0KjcfCkoWVxiatO6Dv6El4f12gY/UC8NP7GKTT3XbC51QrCmfHrL66nDxy9SYbqSvNQwj6/O4utPTZpuErX1Xew8dh2sc7kBmoLC81Upf9OallcrcVB11UR4c9PRupTjLh0x+H90VfkmGz4f9Bg3qxqJI4F2PqhJnPWteIBfAShyVDukYu8q2/W5Bif7bQK4WecCD7ALYsmuZ9/L5qMylY7iiMA1hOcmP9mPirx7G2YRXEJCZi1T0JPvGNxAK7LILmxQeW76xxGGarc6Z8p2HBpuDPlrQ+EQRBEISgGGXBd1MMoLbRILGBUY+SMPDNzcbpPH2vUNKN+Q8l8nQQXdUNJCYaiXxVV1NEXteU7/QjNtLXTjGS1P1qRiUv/xWMSPW3tfHMiv3atw8q3dWN6hhoLDhmGNvfHGh7nq7YOkZtlY6BxrIj/ECWsXlaH28/qGggrqZRhz+3mWRsPqdC9ubIfGMoahhVyc/Lmwxj/4pnjJZeYcQbNRP477XGq5uz1CP7l4y23ecrxkCVBKNOHH8eZMw/oLz5kb5wBN2vb9SmZ5zktTlFy3rgAmN/Xrqx5iXf/EQZqF6v0HiMvP3GZ7/vTn6ibc96rji6VDnar5TN+mEnThvLHqe01ahF5fFrY76SdxDytht/aU1xUToTH5pPtciBE8uMB1HJiEE347192k1hK8coGBVt6WY5c9rR9klj/i6zLEJBybVqYkC5h4LUZR/yThub3xqqn3Hpv9ZV06hRjf+2IHn7lJOShfZX3ap/INlYz5qXX73Reqw+3Rux0LdGbTamUDj25/2u2IZmXA0p7OtfpSe82b/8GaOj8kttzOvZqkacygvH61u+9nhru9tSg2j783wN9G4zQfNikWXsnqvLJrqmUc0rPPPienjDA7OMzaf1Iz6UmD4RBEEQhBAoG0OHBp2vN6eOrD53wg2MhtwJJ9xtTFm4wdh9QvsJxrnTxukTp40Lu943BtFgrT4PyCZ9o9zsV5aP8ZS+nDvpSgbiuRO9xXjyrWXGhu92G+lHdhubl88yRt9G7jG1jFg09x8MMXowEF8TxsiR99NnGH1+O8tYRmHs37PZWPbWaKMNpachD0L+8B0N6p5UfnDbaGPW8s3G7iP7je1fzjf+2Ivjb2w0joXR4ref0ZDdBz04rFAz3ujz8DCjA4VxwwNTjPlfbjf279turFk4xbid3CrzALHbXGP39unGLzie+H4kwzXG9n3pxu7vlhmzHmPDggZTteneDa8b2x2MyZAMnar1jJoYZTw2pr7Kj5kWnZ9vlxnTH7hB5SdwPDRITuG01DOu8Xqe07nGmJ/Cg9NaRmU1KKtgJJCfxOt/ZQx8d7d+3pmstS/Qc7WNhmR8DJwbYECvyfqW/dZRhvXo5c6jsNOqflDcjy/zKpP0JSyjOsY1VK6VVFluIBmfNvZv3UBl/qTRow6XJ4wnlwcaIPpzsYaO1GUdvpt047OnuB5WUwPwGwY+qcpp8550I53ys2buM2QUxhqoy+m1jDdNXpZbZ3wzie5Xr09GziDj/V0XvPTJ6dNOBlJg4yDL/qzPde7MaWP7233J2Gmgn7fX3yxj+1tseFY0jYmm9ypZbNi63zhNMtuwfLrRl3VenYpGFVznNhAtsk6bcVxY87xKHxs597y3yy8NXvqxUEPHSlOCcQ2XAW4165yVJqoLU5QeqGc0qkT3Axi+JaNPBEEQBCE0ysbQIbKoY23GnbgyduiqDzXAVR0fD1K+3F34LI8eRNWrSoPToG//iROfGY9y+Hqg4/imMC/dWDuhjXrrj+bUUfuOD/VggN/2VkQzx7flp9WAkAbFldsZ7W6kcLpTR+3b4eftNv7eg+7Vrm3UwB0+sweEzhfICOS35QPf3E7DDB9oQNiW/CRUa2fc2J7z9KixzG98kmWseb6FgRqNVTgvfOs/4A3N0OEy4jiaGi986TwIChrPvvdoMFvVqEuD5tte2uCfF2K/Skc9qgONjFdDHfhnbTAm8qwCDZIT+71nBDaLOH2Uj2rVjcrRE40NTgkw9hvvDSQ/lP4nV9iH67uN9/rxszQYb/NHY4PTrEXeaWM3Dfgcgw3ARRk6Upcd63LWdjLw+o02pn/rVEfpPuW5LQ/8Y6geUjqcsAbiNTC08FnCQo2DIByYbwwmQ7UmG5L3fWjs99V1Rz4zXnhgqPHCwu3OepCeH1KhulGLnk90MjCZoqSvML9URi3JiKzNda7tJGOD87sCY/8Hpj5pTMZOi+fX+JV1iegTQRAEQQiRMjN0mNObZxl9+O0fdaCo3cg0eOhqVBt6WcQtxjOBOnqmCIbO9jduMxB7jRpYvrA2SMd5YpnxkFrS4zvgJfRg4JoKMPq8HWBYnbfZeKkqDb4bVlKGW6BO2hxE1jMakJ8RS3w6e52vOjUoX7/3HyyY6CV88Q3V4CTgjAYNUFrxW1ga8LaY5i+j0AydRkYttDKmpAaR29bpRgvEO8ZjzYjUQBfjvT3a0Ze87cYbN0Qb4ZSOQINQJ1S5VmpoxNNgffpW7eiLLtM6VE9aBKonJCc2vKPhawiZS4GqhmJMF4GLMXSkLjvX5cLRRmsEpSWAYVwqhg4bh3eQfqvJOu4R47NQZrH90MZ7jepGVaqza5wEW2KGzmm9TLQh1YO2xvSgzdMqy7okw65+hm9J6BNBEARBCJUyPYwgru0oLD91Gru//D882bEq9u7dS1cm9qERqiUmIrHht/j7Pa1Q5ZFlOHBRm713YM3CA0DMT4i9dToG3xbkHKJqnTHkt1Vxgj4u37jZ8aCE/CwgPq6K/uZDeH00618LuBCGXDyOpDbOccU1aorryUdYRSDtqPMGXhfnuVqVAKcm0dD+WvqT60IOhdSlbYDfvqjfFJ0pnjORQPZP6SFt2vcnF3loiyaNgsjt2lYYRP5+Ii/Z23Z7b9pWZZdHVz1EB/pRj/B4JLStp7weOO0kdWda3jUSt5w9h5iquzFjheN2bhxY+R7eiYpF3qlmGNurrXb1ZsdXC7Gb/nZ4YyicDls7RfLb+/3ui6yHJYHU5eLX5aZoeiP9qVwV2HYQZ0zHUiYbW/4yFg9+2QA1j9fFlNS/FPO3mqLRpGUScDoC4aQx009q50tBZio+n34SlV37UemhZzA46C8CxOPOQX2BjDBUil6NhV/v0e52LlKfCIIgCEKIlKmhowiPQ9Ouo/Daoi0wTuzGhoXJ2ug5ib0FiYglg6fBnLsxbp5ThxkiR7/Hhm9Oo24Bfe7eDsF/uScOCbX1x7R08K9qFI8zZKzVRUKc/upL9XjcQMP6fBq0FWVg708uhXID4qvrr77EJaBeYjWc4JLOPO042A0NQ/8NQDSf7uSciOhYFgIn4BCyzyknf/IPYvfSY6haifwHGf/40aQzHh5YBfujgIOTFrlPEPNwAGuXkgGUcxCVBz6Pvq21s53sVMx7YiN9aIZ7bvOtHS3ReTgl6ExjNJo3BL8Y8hesTSvD46CkLl9UXa7AJ+kVUpUvJdmbpuH+8VtQL/oA2qV8gvEdilLZvakQQc/mcWYu8VHYP2zGm2RY1TgPNLjxejJlghPXJgkDcAE51Ja3b04LYJAWX58IgiAIQqiUvaFjp1pTJA0ar4ye09v/H+4/uBd7LwCRDYHFw/+BLcV9m34wDf9AJCpUSwRevdl9jGqgq90rANlXwMY0HDdDuCSU3HirDEduIRCX1AXDkYXIGmvwwOyvHY9iPrB0Op47VQ0VzgKDbww+fPemAfoN7wGk10fF7Cn4fKPP8HfbckxefAZ16WPnX99Jvv3JXL0AU2jYnOhoCEUj6el5mNr2R+zjId7q36JH0yrmEbh/eL/0jR6pyyGRnbEHqYtmI0Udtew5ZlrJo/op7auUOZ+KqcMmYnv1DBxqNRVTx7UNMMPlw/kD2PHx+5j2B/NYfesY5oR7VlHZXvq5jox9/JIpAnnngCbxhZk5RJ0GaIc8HCHDF/suxsAWBEEQhIvj8jJ0bMS1vB/vHZiPISdPYS99r4Gv8P0+897FkHseeolc4Aun+C95ji3+21bBRrW++P2bv8LRn+ui0dTOaHzvZCxYvQV7jmZgz6a1WDB1GBreswINIw/i6H0fYmQRf6gzrvtgPIuzOFEDeH+R92/q7Ph6IXZXcuECHkS/rk6DtEys/XS5+hTIEEJsW0z4Nh2bF45D/5YtkENOe/+9Ce/95QF0I6OnZZ9kLCiDH/2QuuxP5o4FmDSoLSokNMPN9zyMia/Ow8fLVuE/ljzKTONl4vOJIzHpcAPEnbgO09+fgLaFFcnRVMx4pAPCKjZEq74P4KnJMykvH+Of3+u8RF+mP2oaXgGuxJpU5+hzmS0RFARBEITL2NBR1O+Hx35XFTiXiEh8jYPFXYceG4dWKED2ob1Imv0DTp84HdK1Zf1YOO/oEIpKy0cWYuvMX2JfxQaouPwPGHJHOzSrk4BmN3bBkOTlqIJj2N9+KjbPGoIGPj/UWSjRSej1Yh3kGHVxevqH+Mz6IUS1JG0TqkceQ+0XH3HeC/HTMkyffgSV8VAAQ0gTHo+2g5Lx9vodyNq3HcvmPoF+CUAe6uDUv6diSKubkLLpYpZthYjU5YAcWDoGVVoNwYtf/EfNlNzQbTRemPYeln27ARu+3YzdR07j29+QkXCKdEopc2DRONz5/86g3pkDGPTBKowtZNKSl7jdVOdmPL7oB3BqW9w8EE++NAvzv+S8bMD2faexe3YH7D0UwgxLaZOfhYK9xwEyxNG6PrUtQRAEQSgbLm9Dh4YrVfitYH4ecnEb6hdr0y5Rvyk9nYvcCODYmVzEVYsL7YqTGZ2SIxsnM8gQOHcAdbv1QfdfJiKRD5xIvAHdHxiJP3+5G6e/nYC2XN5FJhpJ/cei2YlcxER9gAWrDyjX7I2fYwoNs6LIQL6/Z5LjMqE9Xy/EF7iA+OcfCHlTePQ1LdF36CTM25mF3cuHo9aROmgQvwuz31x26TdNS1125qf38cCAv6Mqr1FsPAGfHcjCllVvYtK4+9G3UxKSOrVF09pxqBidCLITS5eDC/DUPR+gRrWDODT0Q0y6J8BhCxZkoE+68Sl8xzbMyS74y9bT2LF+EV57dhQGd+W8JKHlNXGoUoFMiFKwreMbNaX/8xDBh01khFDDjxzAZkSgNp8/klAFAY66EARBEIRLzmVu6GTjNL8VDD+LfHRCg/qma5GJa4IO/aohPRc4sPrfMIfBQmmy461huO0Pq3DbSxvw9cfL8fmmNKSl8bUFn7/7GkZ1bYq4os7k2GndA8/3q4yDNIjdsnAt9vBSoUXvA5WP4uj1/w/9nKYz8nfg0z99rD7e393ZEApKeDSa9pmE156PwYECGs59nYaD+tYlQ+qyIztWvo21Fasj/HAPvLd4KjrXv0wMu/wDmP/UECysFoufTw7Esj8XPmPJe8amoi5qk03xwtp/4P7WgU6BKCWubYcxpIt/jqU69933hRrz2Wk7sARRiD4DtOrUstDDCwRBEAThUlEmhs6BlZMwbtYWx03pXpz8HO9NPoUEnECd39+CdsUeuzRF53topJtTH+cXT8bc0lhiJNjYgs/e3KMMifpN6hfdoAgJXcauujix7D2kbkrF6ul7UZOKeuAz/dHSYXCZnboAv/mePrT+CwYXcV+Qh2jzlLiC0tovIXXZiezTZPJFnkMubkXTRtrRj2yc5uWv4aHIrGTKc8dbo/DrBdcg/uTPZLTMQ1/rFLwgZJ/n/V75yME9aNkkcL08nUkmR4VSUOFxSejxeDWcKaiH0+/Mxmdp2t2RDCx7930g3oWz2V1xz208GyQIgiAIZUPpGzpkvLzc60XMeKQdqjz6LgLu4eY3oY/3wzs1Y5H183UYO7wHnN5r8iqUPB7EHjrgtQk922cs02DQs5jU/CCOVt+NiY/+Hst/0jccyNy2HLNnLccenk0SSozsusBno+7FuNcWYO06PowgE5knbVfmxQ3aG/R8AA/lZOFUjXX457vL8ZcagJFzLwZ3dVoqlI3NXy1Qn24b3dXREDLJxo5Z4zBp0Q5nwzxjOd5/8SSq4xTQpx2aaOdLidRlf6KrUBnnxpHZ+T4279COdvIzsPaPfdHl/7KQWOWCdgxEJCnG/8BrlVZ+NrKLeOpj9qYU3DNmC+pV+gltUzYjOdhvHtkwj2OPQCwWYu0WBwWZn4kd741Es5Ffo0HdY9oxMBGV/H/fyFc/BicOfUePx/U/X0Bk3S/wwKAXkRpAbx/48BkMeScHjS8cRsLzz2HwNfqGIAiCIJQBpW7oZO/bg+/ob27NRmj80YNoVSUKw/7wPpargS+fwpWK5fMmYUC9hvj1irqoevwgBi0MsHk3/nr8qtXPOBbTGLnT+2HEa8uRum4t3v/DIFSo8AzW2gd30W3xzNwpaMa/nnjwL+jfKMwWbyYObEvF2kXTMG5QW1RpMxgPP9IPw97cQsNc4eJpi3te6AwcrofKNdZj7vgh6HILH0ZQBVWq264qFdCk/SCMm5WKjOIcJV6tBx54nrdu18X8DxaAT1Wu8vivcafTW3QyuN964QBi0A0jewbeGZ69ZQa6PvI63uAfrr3uPqQsWostaRnISNtC9SUFd7fqh5lVT+LMyesw/hFnYzwYEWSM/esfr2Laa9MKvT63DBqpy3607HQP6p87i7D6/8Pjnftgxsep2PGT1idkqHavkoAuLxj4/W/bIeO0fsiBJq16AKfyULnu93j8ofF4f3UqUj+egXsbVMDQovyW1/ktmPrYROyIz0BmwwmYMKolsu1Gve9l01XmcewncLAh8EHf7kieZ9Y5s1xTcN91VdBq+DZM+P0gHDgdo59yoEkrPIgL2JcA7HjiXhVO6rrl6iS3Cne9iz1FaWMtR+G9Nzri6OFauOboJNxc5TZqp6Rvtx1A5k87kLp6AVKGt0XDez9Ho7iD+LHJJMx7pvMlmr0VBEEQhBAxyoIjG4zpD9zAP5hhILamEVdB/XiG7apg0ICR/nY0nlm428jSjzmRvmQE+YszUPcao0GcdzhDF+7Xvjyc3jzL6FOJ71c3Ktr8WhdZfurv0Dc2GOl5+iGL76bQvdpGfbo/YmG6dvQl3Zj/UKKBeBiJiVOMzdrVjyPzjaGoYdSrSv5SfHwFu2djcwrFU7WeUQNDjflHtKMfm40piTo9D82n1HmTvpDlV98gW8CY8p12tBFaHEzweIwja4xp97SkuGoZ3bvdQLJJ9LpM+ddQz3NaWvz2M+O0frQoZH1Lo1nUMRokNjDqUDgvfOtce8x8U1ofXxY8nrx0Y81Lfcz0VaxskBml08pXZV13k4xnVvjXtWCYcjXzXr8GjLi4uKAXx+dbPlKX7WRRGN0pT1yHYo3qOu/u64YnjWX7yNt//099D5ifrM3G1DbkP7a+0bA2lYt6voJRRf19zthgr05BZGjqpQZm/a4Po7J6PvDlK5v9un7G1Kxp1Iry9d/FmL6Zam36MuM+RBuxAWVGMpnGMkkwKtavadT2CWdKqi0zIdWHLGP33NHm89E1jWq2sKyL89li8KvGhgBBlJg+EQRBEIQQKP2la0ztJIx9dwuyDmzG/NfHYmiP7rhBncClT+Hq9xDGzV2D3afXIWVQ06BvBeP7v439Xz6D0a2qIbImPX/9r9DnsSlYtv005g7yX7IU13YUlp/i30R5Fg8/YIuXn+s3Gs9zvCcMzH08CfEOy5kSE2MRRf4LI7Fy4X6iE6sgurqzv2D37CRWj0aVxMLfmwZLT2JiFGKD5CnUOBinePjY37A6XTD+hz5Yk34Un6/aog8i8FxZp9Ox+8sXcVc2cJRGW8f+30x8Voyd/dFJgzH91hhE0r+Y66egn+PemwP47MO16lOP7p2Dz8KEx6Pzs8vNuvrcMNxycwtdTxNxQ7e+GDFlGbaf2ICUnoWcpOWA9cPvUVUSUbNmzaAXx+eL1GU70Wj7u4XYvvwpjP5Va9RSsmiBX/UejSkLNyN902voy8uoGrXBM9cHSUs0/2bSZrw3+leoQ/qkJoVzQ7eBeOitDUjPmwzf6hRQhvl8j38xk4hKRLxKT+DLlwaD3kb6t7PwaM92qFPf9HNDt6F48i3Wi19hbFuqtfEt0aVbPdQOKDOSyW8WYvPc+3Bnw3iy3SicX3bH0KdmYcMRA8kdvJ8rvD5Eo+nQN2Gc2I01bwxDz96/QgsrDyrcVzH7u3TsmD8eSUFOILhYfSIIgiAIoRLG1o7+LAglz8nleLB6PyzA9fjT1m0Y21q7ByD760mo0PlvqI2j+M13NBhrr2+UJNtm4No2j2M3krEha4rf4FUQBEEQBEG48imbGR3h6iFtO95FdcTgOsSH/DtI2cjBr9Gkvv5awmxZMQP51/8KTy4ZLUaOIAiCIAhCOUUMHeHSEhuHJghHbNVFeO3vG4MfKZ6xFpOeehHROIlav33Q+RCBEqDtMzuQtm0jXutf9OVmgiAIgiAIwpWBLF0TLjEZWP7Ibeg36wIaVtyH/XXvwwsvDEGPa5qifqv6qHAiDXv27cb2r5fj4cnzQDYRkD8Myw68j76XaEZHEARBEARBKP+IoSNces7vwfsT7sED0/8DVKiEuKyzXr95ZOeGB6bjzT+PDbqZWRAEQRAEQRAKQwwdodTITEvFZ8sXYPnXO7B92x63sRPXpBWSOtyDwcP7oXOTov4SjSAIgiAIgiD4I4aOIAiCIAiCIAjlDjmMQBAEQRAEQRCEcocYOoIgCIIgCIIglDvE0BEEQRAEQRAEodwhho4gCIIgCIIgCOUOMXQEQRAEQRAEQSh3iKEjCIIgCIIgCEK5QwwdQRAEQRAEQRDKHWLoCIIgCIIgCIJQ7hBDRxAEQRAEQRCEcocYOoIgCIIgCIIglDvE0BEEQRAEQRAEodwhho4gCIIgCIIgCOUOMXQEQRAEQRAEQSh3iKEjCIIgCIIgCEK5QwwdQRAEQRAEQRDKHWLoCIIgCIIgCIJQ7ig7Qyc/EzsWTcKgji3RpEkTNGndAX1Hp2D5jkzt4cpmz7xhaNukLcYsPaBdBEEQygFHF2Ak6+wmI7HgqHa76sjE2pf7omXrvpi2KVu7lQIn1yKlT0u07DMNW85rN0EQBCEgZWToZGD5k7eh1T0vYvHOfLRq3Qp1z/4TH/91Ivq16oDZadobkb1uElpSp5qySTtcEWzB56+l4j+n/oPPP06l3AqCIJQfsvcexdG9pTjALzMO4P1BZNSNWOCtxzPWYvZzn+LkTx9jxpc7tGMJ8tP7GET93shF3r1HxroFmPhJJk588hQ+uwTRCoIglDfKxNDJXjcD/ab/BxU6/BGbD+7C8o+W49s9Wdj/5RQMff41DG6iPRIH9m7Gzr179bcrhbboMS4JN1S9AT36JCFeuwqCIAhXENlp+GGxQ/8T3xmjXroL1a7pg7F3tNSOJUf2vjQsduj34jsNxpTecaje+1XcWfLRCoIglDvKxNDZ8d0C9bduv95oG6s+AuHRaNA1GXP/2ANx2onUPQ7u2a4/X1k0HToXW9K24M3+DbSLIAiCcEVx8AC+1R+9iUPnZ5djx7blGN8+WruVHAd+2qw/+VCtM5I/3oEdH4/39J2CIAhCQMpm6Vp2NhBdFceWfYLUQFtytsxG3+4d0OU1A4mJifh/N4aZe3mmbtEeKJgfliNldA+0VevF22LQ07OR6jXTvwUpfK/7bOzISMWMRzqoZXBth9N3Xt/Mbtbz7XtgzKwtyMw3n+TldQtGkHvrZHx+cA8W/GGQ8teyD3+n2+dNtw6t2U8HDPrDchxwP0sxT+U02Zce2MLLyEDq9JHms5zuPyzAHq/11tnY83EKxnRva+bZ5/JdziAIgnDZkU96btY49z7Mlh1HIuXjPaTdPGQsGkn3WiJ51QHs4T2b7UnHte6L5JW8t5H0oHsfZ0t0GDIJy38yn2Mu5llFxhYsmDoGPfg5Sl/b7mMwY6NHX3/+bF9UaPE4vm6YCCwfgg5K/1r7krQ+Jzf3supNKeq742Xvt35ai9lP675Dp23BD1oqGZ8juU8HNBv+HzSgfm/VPQnm89bSOff+qBTq3WyQrLfMs+155f5sKhliXv2rrT/M3OHu07j/Gjk9FRm2/ksQBKHcYJQBp1c8aQB1jcTaMBBZ3xiRMt/YsOe0vqvZ9Z4xtF93o1LtekaDurWMFrd0Mfr062P0eWuzup313RTjWko+Z+GGbuTe7Qb1Gb+YZGw+p7wQm40piYkGKJ447a/b9TWUv7hxU4w//IKf/6XRp/ev6G9towa5j1iYrp9NN+Y/RM9Wq2fU4XCb3O6Jo/cfjCkP8bPVKE3djYqoYSSQ+20pm40s/fTmFHrWKbwqdY1rG/Kz16hnqyLOqEn+Wjy/xv3s/oUjzHjoXnfKc7frqxmIa2xQv6fcp6RaPgVBEEqZI/ONoYg1YjHUmH9Eu/mSt9/48F5TX6HatUp3X1vN/D5i4X7tibSi0nX1jSZ1+F5FrU+j6HNP44WXTD34q959jE6NI9VnNCX9rtXfxTxr7JtvdGE3ulrcTP2H6gMq0XWt8arydNpY82If41fXNzGq1aln1GvUQOWhT79njM+UStf6nJ6f8h1/JzbP0n7Mq8tdvY2bWtQxGpKf7m/tVl6yUqeYaaHLq9/CQGMZy/L0GuMFehaNKM461Ywmbanf4fAmfkYxEkr2oL5gCvVuGrusqR/jPqNTI/29jUN/mACjcV26Vy1J5zte9V8D3zXTKAiCUJ4oE0PHo5hrG6hT16hX1VTKNwx8wVi2T/tRaMVM99ydCZO33Xi9ufmMvdO0DITb3tyuXcznYyLI3wfaH8U9f6j5LFr/0digO4H9H5jPJt433zB9ejqym19KNU7nsVuWseGl28xnca8x/4DyqDqv68itAig85S+IoUNu9R7+0Niv/Rl73jN6kFssHjM+U7bedmP6rezvdmPWLuWD0pxufPwYx5nkcRMEQSgLQjB0Ti8fTfoqxsCNL3oG2uc2Gy/exHrsUa3rLGOlolGxA+lO7cb6tBWqG1GsPy29fW6DMfkXlckvv+gxnS7mWdbl2xfOMpZt9bxgc/cBv/2MzBwTMw5ye2i+aWi4cTB0fOCXcUl0H+1sxgb1P2vees/YcMCyuDx9iqff8oTt6T80DoaOW9Y3veiWg+pjh7GsyZB7cYN+iWb2h9FxMLr8n9WnUQrWvqD8Jd46nXofQRCE8kXZLF0Lb4Ah76djw1u/xsC6FXDoFLnVaIiT376Ifo0ewecnTW8B2bUGM3cBpJjx1CDPHpgG/UdhCv098Pm/scd0UlzIG4YenbU/irvZ9YnqY+J9vZGk1zk36NQDA/nDxjQcVy4eevfogLhw/hSNps3NkxISH7obXeqrj4i+sTOG0d8s7MSBEFaVjX1kCBqo8Igm1+O2xEScRyZOq+VrUYirpu44kIrMc/qjIAjCZUkmUld/Tn8v4MlJT3r2ksS2xUPjaJiOvyF1i30B2znU6ke6WG/OjG7UBG1Jm0aQVnXr7dgkdL3HPNZlz0G7ki3us9FoOWgU+rb27Aht0LSp+WFfOtLNT8Xn/BZMfWwiaeyWeHX2M7a9qA3Q+eH7kVTf2tfj6VMOHEn3WtYXGh5ZDx33kFsOqo9Nno7r6eP+F77EZtuytOzMYXjsfqtPoxQ0b6n6LxzMLEb8giAIlzdldLw0ER6PpIdfw6JNaTi9ZwPee/QX+Cm9IepjFhasDW4tZOzajF2gTmz34+ij1iubV1hEV0ysTR62HcQZ06uGX1gVQgRQQX8sMuEV4CJj5eLEGab/NsWdwzvT3+/x++ZV0ePuvuj+iybo81dyavM67myjPAmCIFympGH7avrTMBELelVx62e+Gt77FerQrQMZwX8vzdTY3nq7gvVyqBCK8mxm2lq8/9okjCE923n8+6hVlxz9+o+iko3U18Zh0r+B7m8uxPi2PocV5GfjwKYFmP3yOAyjeIdM+Rr1qpL7wXQyW4qKljXRqqnnpZ+iejxuQCxJwvcFnH9/6O8iCIJQPig7Q8dGXJMk3P/yXCx7PAK8z3/tLv4/MHHVWaHn4EJMLfUbPNbVp98d6POrPmjVqT4qm16vSOL7TsWX4+JxsuppHNi2HWkVkjD0+fnY/u1v0TLEzl4QBKFsqIx4nqQ4eQFVb+nio6Pbo32/PmhQreRPKisS53dg9vC2qNK0Cx4Y/yJmLvsYX397AhWL/bbLQ/bXKbj5ua+BO/6OGY/4nAF98HOMu7UCGt44BA8/9zpSSb+v2ZKN6Eh9XxAEQShRysbQ4Wl0vxNe4hDPszFE56Z6TVgAouPj0QzHENP6T5j20XL1Ozxe17v3Qy9CuCLJWPoM7nhtO1742MCOtDSkbfocc/84GC09qywEQRAuUxKQ0Ij+nDmCeyZ/6q+f6ZrUtWyV2Y53x+Dh9/6DX47+OzbvO42sPAPGlt/gon+y7eTn+E3nF+nDPZj/znA09XoxlYnP/zwGr28Aer60FruPZCGN9Hv6wu7YG8KSZ2eaoFVX89P2PXzanI0TGfgPziOvQgs0kx9zEwThKqVMDJ0db/VA2A3jsMB+9mXGcrz/4jH6cDs632hp5WjEaZvH4Ln1/Gxks4HUsi+eH5iIvcseQMqHNuWen4k9q5f7HDF95ZGRkQZEXoM3bwlTS9f68jV8HFLmrcWeoq9tEARBKGFcyEM2cjKzkHky0/vKjkPnQfcrXy8+NdX7JwSObsHy1d5HTJc+mTiwy+w3ug38NdpeE4doMkgObCe9G+U90xQdqw0ySnAW/wma8AwsnzAOb9GnEQtfxWC/93UHsUedCd0V/e+5DU1rU1zUZ+3d8R9110M0quhoz+RTh2f1e47EIal7X/objXmvveORdf4BzE95HN/TxybJd8hKAEEQrlpK39DJTMUHf1kFfP86hrSqgrakpPve3QPxCf0wM/cc+rzxZwy+RvtFE7TrSp2BqxH+clMYoiIqoO9bO8i9AQY/Ox430qc59zZEy46mMdC8RhU0u6MfRr78ufmbA1coLbuPwf3X/ISa17fAnm3bsZ2uj997HROHdUGzW17HjoCdniAIQmkQjZzERfht8xhUqV7F6xr3cQaiO43FssdvAP49CTdXqW2+sOneFmF12qHfHb0we1tZmjpxaHljW/pbB3PuqKDSxr+l03DWAdwS5p2uuFbt0AVRyPx8CHq0bokKFYYHPCwnc9U09Jt1EnVr/wKH3n3QfEGlr+SV3CPp/gw78buOjZX7NRFV0HFtgurLPFjpq4/UX9dBpaoV0PapzwPu34nrMR4f3kvp/tcLJOs6Kj+3NG2IX8+lm20mYd7TSVRagiAIVyelb+jEJWHy9+nYvHAKRvfrDqTxQP4Amgx+ErO+Tcfyx9valHI0kka/iSn9q6JiYiKa3jwQSfFR6m1gdNux+NeRDZj11EDEZZrGQOxNozFl+XZsfJUMJzMARWKiv5rnHyH1JdrBzcmfkxvjG0+xnj26HIOaDsGme9dgy7YdamkDX1npa/DyL+n+1n/i+yt8xkoQhCub6MQqSKR/VUmfsU6zXybx6Pv619i+nPR8tzrmC5sj0Rj41CxsOLILY1t7dKWTToxOrI3aIejt4j7b4Nev4bPnb0ZdctuTlo7KPVOwe+UiPPvbFtqH5prBeGvuGDSpk4js89Ho/thNiMvT9wh7mNmZ6fQ9FhViz2D3jn2qT7KudHWiJvVnTy/CrIcboE6cC9sPZqPXGxtw5Is38Eg373w06D8V7/22HipT+LWad0fnpnHuWR2/fkqdYnoa2xe+gIE3V1OyPlyjO0anLMP2b1/wnPimceoPnfo+QRCE8kAYnzGtPwuXA5tSEHbjRFR79hvse/EW9xGgyFyLPzTpgsnHk7EhawqS/PsqQRAEQRAEQRA0YuhcbpxPRXLFmzGVPzfqhD6/qAbkp+PjT/6pbo9esh9v9vc5RlQQBEEQBEEQBC/E0LkcydyB5W9Ox+yP12L70WwgNh6tOvXDqCfGoq8cvSYIgiAIgiAIhSKGjiAIgiAIgiAI5Y7L4gdDBUEQBEEQBEEQShIxdARBEARBEARBKHeIoSMIgiAIgiAIQrlDDB1BEARBEARBEModYugIgiAIgiAIglDuEENHEARBEARBEIRyhxg6giAIgiAIgiCUO8rkd3TStxXoT4IgCEJpkdD64t9tif4WBEEwKQmdKlxapIQEQRAEQRAEQSh3iKEjCIIgCIIgCEK5owwNHRcqVHYhIsJMgsvlQmwFF6rSVR6IprwxCXFiSwqCUD6pFqk/XHW4EB3rUv1WPP0tNai/jIx0IYquStK1CIIgFEqZqcqYuAJsW/AUhvStg1ptwhHfuSXu+v1LmPf9CSRU9SQrTGvz+Fj154qAjZzv3x+AG9s0xbBFaaVi7ERVvPLkVG7RAx8pC6FccuwDjCCdXavNILx9sLwbO2RYRLkQE01/tYsycioVYPXUrmjVuSsmbMwqeWOH4mMS9AszBRk5UadX44/D66D58Jfwdc5VauyQkcd4l4kzVr9YSf1/eXE5p00IjlV2wpVBGZXWUSx6sik6TZiGL09VQ6ek29E+difWffQ8Rgy4B1O3FKBmBdPIyfrqWbSmTvXZjVfKwNGF3PPf4cvZS7EfP2Leqo3YmU26Wd+9FHCj2zAtTBmMV46cygF6cOPVUbHbxpdKtiyc4ikOJRWOIFwVsJHzE94dFYa45rOQbg2sI4Dsg0uxZPZXSD/+Ff6U+m/khqkHSgY2cnbPxlDSIb0XHHYbO+GkSzI2/gOv/+so0v/1PL7dUYAY6ievKtjIOThPGdpxT8zD8SDGjqdfnIK19L2s9F4klZ+vUXa5pK0kccpnyUJhU/hexn8ZYC+7TdpNuLwpkxqT/a8ZeOajH4E2k7Hy0x1Y+c5qfP5ZDra9ORm9HhxPSsyFU1nUn1DncezARqTr564MChAZeyPuGNUfDdEYQ7t3QItoIFffLXlcMPKOYf9u89vWQ0cRFl62iuCqwG3QXOKOqqTiKa30CkJ5gZpM7pk9+GEdfe4e6+ks88gWqd8fA0bdjoSat+N3Sb9EZAmeXRoWRX3koZ34Un+3yD8PxHe4D0/eVBsJN03GLS1duED95FUFj6KP/YgV/HnVj9idXQDqXi9bePCfPocN5ZkeQ7kccunzyUZOBmY3D0PYnIwyN3aEK4syqS0/bJ1jGi+3dMFd8cCFnALk5UWi3l3PYcFzvRBxhr7TwMxF1sH+n75SzzAZpOir2qYMwyq4UMG2p6dijAuVIvQXhXmP1zTHRrgQrf3yWwf1cpvcrOfDyTioWsnFL+s05tsDXoNdJYr8qQfImqewqlBHRDeUG9/nqxJ9thRuNqX/hpFL8N3WPZj7YBOkZ/JxrLbwKIwKlA/+zPCzlHQbdD+O/Osp+uAUIDe7Foa8YeDY1nx8Mrgu0il+QRCEsoX0GOtUvQ+T/8aTXrNPfvAAieGBC+/ZZD3MetFc7mu6Wc9XID1clXWv5mKeVdC9GNLD/BzD+jbe3b+4EFWR/tCgepvpgGwaVPMLq2qRBcg+60K351Zj21df4P+6VqC+iXSu7iOc8Oq3uD8hhW/pf05bNasfozREkSF17PB/zO8E63P1pjyvADk1uyJ59iFsmz0Rd0UV4Kxb1Xvnl/NUmeKMCVdfNeY91R/SfatPU30S+fXqOi9XWM4dnlN93bGtE9GZnM6ady5bIirWBWrZDOVyyqXPZwQqdwfibGM+QQiFMqkx2flHzQ/frsGn9LEmdYaVK/DbM1LcpMjYyIn81yvoPSgRA/9uek0ZxmvCwxE9bb3qNMKru5C1czGm/v5m3Ejutdo0xd3PTcc3mdTRqQ6Ns7Yer9O96kOmY9PpjXj9ty3VMrjrn5iO/4SRsj+zEa/p52vedTNGvPVvRCWwwmejJAP/GBGG+M5jsfTgLvzjpV7KX/PhT2HxERdqhP+IeS/chnrXs5+W6PfSYhyjDjaGYuWpza+nmEvJer9tLj2wh7ckIwNf/eVudOzMfprSs/Owlzoes99xIa4OsG3pS3hiSKIKw/fyh5S/7sRzszxGjjUQsLB3tk5wuu0EfWuijTBen+8bj9eafZs/e/heS7ocBgiOMw4+/vymyXVcdnzDKUwmIcmA46F6mn5os3YwO1snv/k0iLHjl69gaS5CPEzAvIUUDtdR7+e9ykinM1A5+srNN59FqltMoXXCTK8Kx+bXsY4XknZFIXWLn1Nh28rL7cfmxjjmLVh+9L1gz9nvFS5L/3C82mSpQPosrgDr3hrr3ofZou99eHbpdsTXMY0drq+HFgyge/Uw8tM07FzwG/RuxTqyK8Z8nIYE1oPufZz1cOOjT2HuISpz6isu5lkFyTX8xGbMmzYSd95l6uobhozEH9edQEI8GRsxGfhkQjvc8uDD4AkdrBqm+g5rX1JFuj/vEfO5iasLEE/PWEtWnS53v1WN+q19K/Dmc720/jfTNntXNhKoT4s89hGSh7ZErxfNF3wrJtRTz/MyrXR+G7bPXLbFM7MrSdWbdciU9Xfve/a8cn/28LTF2HHehZoO/eHmC7vdfRr3X/fNWI9IykMwY6fQehesjitsbbawNuNzn3GHdd78w/L0NnK8n6lqb99emOmw473E2JZOW548usX7WcaxfdGzPKbZdeAw8IsIt6HsHZeJPR/BdJgdb9k6UOgz/nIIVKb8nG/5u8MKJZ9B0mKFGyhulge/dMjN3oH9q4BbIrLdL3MDyqCwvIeSLzfe9wPXK+GyhX8wtLT54Y0xPNFvXjVbGAPGzjUWL/vZOPODYWT/L984Rn9PLnnd6JWUZDTU/hq2ud3olHS7gce/M/IOGsb+uZON9vZ7bRqb4bWZbHy22TDOfW8Yx7auM5KVn9pGQk3627Sj0alpbeUvYchE47cN+d51RqebWhgJOqxerxwyjB8N48Su48bM7rZnq9/siaPTROPJPhxOdUqTJ42tx64zzqYZxim6VowNHF7DhvxsDa9nEx780jhDz50mv9+9cq9OT2OjPeXZSrN5NaZ8kYxs1wl6Ztsr/elef2PmF/lGzs58I/O45WY9Rxelz9jPcvF+/thWw8ikMKw0W5dKO4Xj538nuX0x1+il4/OOx3Qz0vz92cNPnptvFOyhtB8lP1SWnuf5mmysoHgMyocVp6O/7nONfT8Zxlm+T3XCjMt23yecwmRy/kgAGXDYdF9d7jx5+3P7taWT8+gdnpmeHCssjjdgmguJh8rLnSa6AuaNvBYaDse19ZCun56L06/yU0g55h7wlZt3PkOSq+0qvE5we0o3/k+H4+WX8pxN7cgdXgh18CSXg0Pd2kbPcx5OUnjLbiA3CttLllz/HMrQXQ90GoLmxxa3X7nucb4XXJb819J71mXmne+XBJ78muGyvnGnWafh1I9HjJlKR5I/0vGsu69lPUr6b8ArlDHKt0dvkf6ryX6r2HRiT+PJR1kP1jauvel2o73S1XRdN9lY+R/DyKJ2X9xnz1H/kvHZO0YvlR56vinpWHcfkGQkf3DOyPsp23jvXtLRlu7VeeiUNN74+9eGcWa3pc91PTpMfdY/pmg/nsvMM4z2z3xv5FMx7X93snefZvUpNe813l5NevhfS4wxrX7lfk6ljcJB96XGrr122Zv155yvrHWf4c4z94dbDOO8V3/YmPog/uvd993xApWLj16xyrOw/qHIbTZYm+H263Pfnl93PuxtXekwn3pP9800W89a/oLoOt902vPkjs+5fdn7K3vb9b2UzqT670mbf7rtujGUvs3vctBL7meUHw7fXw5eusSdB/M57/I33XIKyafq44Okv8BWr5zjpnvucvS9zDBUudqvwvIeSr7YH18h1Cvh8qdMDJ1jW/fYFLPnathpvPH2KvJAjYONHXsF40ZzltxySdkf/99mY9J17G52mmd2USdDl2UgtP7dJsPgTsH9PPl72fL3k6dxXzfR+PTf3GnRsy/rQWLXucYW8nfabZhQJ0UV+yd2o/hXPNrW9MfK7TNKEzWa/e9ONFort4mq4p8nZejVeKkxewwdyufdc41/k6I5TWEe+2SWcYd6dowxbz0NqnZ+p/N2u5GyjMJXaT5uzLmb3ZKUW/4PuhHqy9fQySdlYQ0ClLJW/kxZWMrH8zyn7ahOm2dAZH/er/NzDx7N/HDDN+9Z8tYDIN8Oy+3PowD902kpX0/nEcjfX1S4rxr/o7L2v28psNBk4ul4zO/qvkq7zou9Q1HKzwrfVHb8XcnJR/G747LkQIPjPVTfTvgocjNsS35mmOeCxaM/82UfMDrlrYAVP7k5hmMvSz24V8/rtHF4qvOxlaMlHzPO/kYvLq/+/zSf88lnpq0tFCpXukKrE97tyZ4nLyOHr4B11ayDJ0kGfulzx2eGa2/PHhnpsupO+dfp4mftYYVax3NJxPaysTpuNrDs7r71Q4Vl5Y3yZai8+/sx4/+TSndJ4JGncxke32cYP7w2gu6THxpor/yO6gHpsePfrTeS2/Bzpq7jNmfJRvnbSP6oznj0KcmM9PY5cjv57w3Gk0ovwnjyXcrHsYt4luSUSeXy5R9fNeYs+Jl0LhkL5M/dBwz5xDhA38+RAe+Og8o9jZ47/T8ysnzqn1XW3PZP0n2+ODz3yzjby7czhw4Zi5+ZZSz+4pwK65StT+F+K49kl5l2yh021xnOA18nvOqyWb5ZPrJeQXLNpHBP7Nzn7mMTRn1pnGF9464btY1Ov1ln/Mj5pvj3/228aexc9yfjyx2URltZcv9wam+mV31V7jodSj+cvrg269Vm7INUmz4y/az0NjSozqvvDnLhZ9xlp92UPnUI20vXkT4IrlsCt68dVMdPaDd1KZlrOdjiU3qHwrLybZerXY4qLY663ZKHc/vzNRK8n7HS7aBLbM+oFzD2cOzx22To7ssC5DOU9Ocesfx46oq9jA26z3raXuescPyMHMe8e+f1XKj5CrFeCZc//vN7pUJj3P/6bix+ZgzuaKidiP3rpmHkfWMx76gLVfK0o41YVwFO5AP5W1dj8f/I4bqnMOauxjifXYAcuhreNRb3kfO2dVuwJUc9oklCt5saI7qgAIhoiIbNtHPXnrizGnCewmz4y4GgCg2s/hGHKaww5cGkW1ISGoYXID+S/CU2Mh27D0SPJi7knAei2/ZEV+W4E/uPAXrpdUCGDroX7SoWICubvjRsgRuV6xFkUlguV01UoTQ586PyE1ZI+Lm55PO/SymNczFnWF3wUnOgI57cmo+XO5h7nTzY9/gswsj67OZCg3veBSkurJi2ErtIloFWvpCSoB6qo/klkuL4Yi7JcSlGf5Tqnc6x62A8p/0RGbku5O6ch2cmLFVhfDKyrr5TF/fPOkNxUxh/+gBpUYH9DdtlIHPXeFQ7ux7/0Pfn3FVb3wfaP3rIDGfjSfU9sExcOHPhGH6YTU6Uzil36oTXH4o5WiYneS7eIrfAcbrbd28Uddz4ZLiZ3sgWQzH1lf7AqsX4Yl8BKlEY1lrz7PFaLrGUnrmT6cPzWLcViIkMLZ4w+hq0vE8FDicqCtj00TCsoGe3/fle0IDHpM1EkELHitVrsPuCdiNYxlPu4LC4jryv5LviwIfYP+0mVUd88+kqKIJcI0OsExH2xQSTsWLrRPTU306d85aNFw51MGfPPLw5wyyrJ9voG6iNAX9eh2RdDpHuyk9xkYya80errFYtRZu5i/CYcnRRnePngJTUVOSGh5afn0gPtE+ylbtaGkFpO7ce6yhtvV4ZgZ51XUj/9FWk6PzSANqk1r2Yw+mYsQYrOe/H9oGCoPyQTOJNL/UGL6F28rSnbC8pLoTn5uC7jXPUtxEPj8EvowtwgXRqfnQHDBhCdQNvYt33WYiwnxjG+zUpgRd4o3/dljC7hf7oTXqb96agGunw25Qjdh89CthX8Bb1Wao8F04AN90/HsOTqiOS2oBBw5aG17QzPe0/guPUJxg+fVA+fc/PKcBpe521c576IbqfQ/6Msxsx8/+exybqe5KTx6NHVeAs9T/nf66Lbo+MQr/msXDxOjHqaKw+ZVvGKZzhOPK8I44lf2cvmMuBfMmzybrXkHvRs4FL7XnNjbgGA+5/CmT0IX32V/iG0uYhCUP7JOEa0v3ZlM/oxHZmH/S/LGSTvOyaIrIycGDhcIxe1R8zv6B6nqhvqDZM+m1oXaT/K/Q2m3+A/mNdQ3W4m/Ln02bYSR02QPH97l5cbyoz3DzeQHbaXdS+ze923DrMRxdcM3QJaEDthg95KFTXUV8XULfwmCJI+6qtl2y5oX42MjrazPOBfERHu5SO9O5/OQ6Sa4B+N/dM4X1bpNeeFfp8fj1eH/a8n75jGfK+pi7UF2z6Wye3LrHyh67UHyld0gkTvylAvJY9E7wvC5RPXtJWePojsqDzbdaVg9RWVPqonPY93REnM6hN+Ry6YS1z8166SHA9L6xfDTFfsaSfQqlXwuWPvYWUKufOVSKFPwMffmbgh2Vf4rX7bzcVz/E3sWTjYUQHWAfJg470/ZvNDaL/+x3uUOuVrasTXmf31KM4Qso+FHK0be7VcTrAXnzhPtSC9+YUBe5YnahUqRHuGMhK+Csk92uKzg92RZ9e12PER3SzzVPo1taFc16K0h+WUeNfcIMdhloPzSPziClQysFbyVqwsUOZiXXpgSdvtq1oGoQVowqvJJZ2Z4XXqDd6k6LGpz8gzdZf92rYGLApq0hSIumbF6sOrXe72sglZWZCSq2gEjp11QpnL7nrjs/XH6f5Apfb1jWktD3r2T1XPeqg6cbR/5HvYDIhwzaiFq4dRU6k5MNeWK/uskHD64y9BuNFxNC7hXMp7wn19EDKQg0+qDwtOfH3Wo1Ng7sI8OuKopW3hWcw7dmD4LlaUwelTjaiQZYX2vApoEypzg3ZyLJeLPjIKqIIcg25TlAnxHuuzUFTYzSnjtU0ZYMTuA569gB6Lh4ImKcY+r64cKoOhpV/Gy7WVaHkJ60AFW9+Qg1weLDHpybyANM0bMxnz53MwLrVVB7UWffySiddPKjBZvWSBbUage01zs/E1fSB4PXz4dy+S4nc7G34Xsc954kaXmm98VnOA9kSp0759T5KFweC7wXZQFLkZynuAhrkp21egVkznsLjw7ti4P+ZBgP3H4ep/wgSXRBciK4CbPjrGKTQoKr9797AlFtikW6dGkCD7fw8Azu/mYfpfxqLoQ90xehZqea9w0dxjNJkf8lWGBdssm5zTWOqhzoe1inV6mijz3wB54u3OeUMv0Q5uJNfogxEj0bUzixDg1/UENyGi9JmFXowbA1SI6PJOOU+4xwpc8q/qQNp0NttEP66V3lBOCX2XICXGG4dNrYLetIg3jqlNZ9fJNo4E4quo3bCyXTULdzwg7QvJ70QKufVwwU0LqiMJg3oI/e7XAFD6Nu8hjpsYVjGWFISDJvMctRnl0cOPvJCBl1tuniMTp8MBe3LnOAxXIjpz86ujAG/m4teVDaPDR+AXjNMQ/earGLItYj9aqB8nSYjLZR6JVz++HQ1pQkNUqmC5ZO1UKNFVzz68mpMvdu8s+THH5HDCs8B6iNQpXId80vNFuo3ePyu7rVRjRTUlUh+Jg1ah/4DU4e0oPxdwP7Ur7Auhxrpg3Pxz7efxq35BdZezIDkk+KtN3QJjvHsik2pq99kqOskF+3ms5m2FzfypoVYgL4U5JmdRHR4iVUu+yb6YPDbGX6T43vxm50TJ4LLhDuBmycY7jdalgz4t3AS9Ju7kiZSvZU6jPlPmJua1dWN3yAVDe5oi1beDoxd5yg7dbKRw8bOUHFRR3VJ5UqDJrObuhj4bbVT3s1TDDNLoWOLiapiDgpnvIq/7ilAlHHaNGzGPoXHmlL9pEzm7iGP6m24U1qt2VhzJo/fOHqMN/NI8dIiPKImEvSsecM2DvqZrmoxZMldfMEVD1JpMcb3mDkmEdf2641x06ZhHuvZreYrgoshrCqQufIpPPS3LUCnWXjn0V/iNOkeBZ+2dmgFJg6ri9bDhiH5b29iBce7Rx/OQ5SUziwZ+KcLMrD7G/pI7cz+Yq9koXEA123zo54t0m/8u5l1mA9jyKzi0rPVgXF43+BPMF1HeXYbgH66hb8Fbl/uGaKLJN9h7BOsb/OaxVaGjj5+OwRCklcJUGj6eZVEy6EYQ3Jdsco0rPs2s168Fo2S6lftlJachEtDmelVPuLSOlIzjwZD2aRdatVSX9WbV5/Dqkx4LRT5i65WR03Jo9l4vP3haqx4ZzU+1teK91bj8xmjcP0VanWHU///43sDMGL+Tjw59ZAa1JxctQFLJw3FTaRJ/aZqA5DLnateXsAKRU3NT6jnPgXOA382T+PhN8M8xWwpITU9uyeAxRkIVwTC+Y3UiZzSGcewIrS9rUlwmAm0OoLCZJJziu67jy71dGb85s7ppJyLIZzis06NGr2Kp8bNOJWxov0UhdDL25vI6OvMt6lEIH+h1rlAlKZci0IuVW37Gzynk5N8lwleKvLPUFruegrJWIpPNh/FuQ1vqDee6q1sPs84xqPZrabfShXNpSG+WLOxjLlMheVtLsHrRYOxS/XjdnykcUS4dbGhUwsJeklyr7Ef4wvSyZZ+/vjvq/EpfX+/T2XP7EBpQ8L713sPIHnVj2g9ZBZWfPYz9rOs1PKW4ARdlkxycB1YgUnPTkM6G8/PjcD1ZB2YXZELUeE5+OSt3pj5r6O4Y+wnWPfVOXdb9cZ/eirQLE9MdGtcb66bxtafflRHVyt4NuDkEeznzzXboWGdYAkPTh6XU4Nwz4zMpUbNFtV1/2SC9QKn0cPzcLCQH82J0n+diCkRXRe4fa0kd/8Tuy4CjirEvq24BJPXRVOEvplXk+SseUm9XE0eS+2QyvuR+YdRrXrRKh0bOSXZr1pcUjkJl5zSUl1ebHu/E6oPGYu3vz+hfkMgKpoq+cHFWLyY7/bEHa1qI49M6PCICiDdpLhAg5KTZ7Oos6DKfMOvMaITOaY+j+S5aaYHIi//FH74YjFWnaSKWbx1B2UOv805dnyf+vz6qKbo9Wg39HmoK25/ZCzGvbsC+867eLKkUHhPBp9Gag6IXHoQ5QArHzW9bL7V5jXX7D8myODYD2vdXkXSbfs+wSc0QOs1vieaB1nPp6aJ2/G+KHNgx0ebmlB9cJ0132Z3H4huiZT2AP74aEz1+0PWcoL3PsBPZEBbb/3MNzueTq0wmXB4Va0RBYXT/u4iKEdS1EUZtF+4cAyf8XIJ9XbR/D0IVLXyFoQA8YRc3hYqHB5A1zCXKOqZhAS38My0+B3hXWTMcgpFriHXiUauknm77O6Il6o9ZZE2+Vt7mi7GECug8EPNz1l+o1mxIzrxG83Va7CEdBvP3oxKcuHUeRr60qP1W/AyoGF4K7UA1dyzYZ40q0GWLrcqhimgyOodcZ/fQLrkyDpzCnvST+DnU54rh/T2Ld0mqjfcM2dMw1fpBWplMC/XzTm0Hgu/2K50RlGWaJUkuTlZOLZ/i/p84233oWvT6qhIctu/12fmmBIYHatXD5BePstXlsPv8ShIL8ecxfKpozDneG0MeOVPGNGMyo7Lmvq4hDgKIncrdv+X/d6Ort3vQrv6sQgPP4Mf9pr63iLMVQlx1j7NvAs4cT4LYZS+SAeBRURG4cZOY5SsV8z/ACsPFCCG4ovM+wlL3n9VLfFOuDsJt9r3Q4UM1aGoeHQbby4/+3wf1Tsf/cAvB0q8zZJu4rgr8Z5awnrTj1W2zYI23C9r9D41U3QukN3tRURJ6Loit68CFLClqw3FCOqLQj7qnaMIsW9zw8s9bMvPwrQeY0ydVoDKWs9Y8nLPRLFO0UvN+AWLZ29iKDjkk51DSj9dtn1FU15+Tr0MWzHhcfx1J6UvQDr4N7C8b1E4OcXsVx2oGBNavRIuf0q/yM6mYvXnqdSg3sToATXQenBX9HnwZtx46yDVQXQa/0eMbe3CSWo0EVG/ROtO5ga214fXQ4uuMWj1xr9RJbY+Bj+egk41j2LJs03RrDeFQcZAx9uq4cYxg/DoK4txtEiN9DKCDLS2t/0OAxqTEqh5AZt4aQNfq97E63/ojRtG/hkFhZx2UFDBhW8fD1PT/YdMF735UK+jtv3Wju9gL10tsziMeY+GhbR0jWcNJn6pw9s7DyPUFPFkjLmrNs6fMZ0d4YFdUz1VrWceTA7j/Ycrm2+zH7gXTahDCeRvbnP+JeZp+JkUt7kx3HzrZy1AMd/smEu4alYPLpNzBT9jFoXHv3ehyD2MJX8y89KJNPUFn/WCPPBs2JA7OHOD49mNL+Hu9TSgsTR5IfDelZaqs3kVS47pN4nfvOQ3xR4wHtsAnDuwwso7UDhVafBpbgb2XhOPg+bvdajf77iIlwY5UUWQa6h1ggZ8thpcfCg+9wZU3kP0kk4jsWGaueyBl9hVKq4uoUSGlh9zHXpODpUFG4FUj0dT2+vVtQvIzlf3cqktWRuV7fsD3LOx1vI0XW6cbsY6DIHXmbsPMCgxlmIc6fBrO3pfD80/jFp3Poupd5MS2/o8enVsittJP/fl3wW7vRNGjPkNXvzmPKoWa/B98UTGVMC1rcytxXPGXI9O93fFTS1I331y2ktGvBa/SuO2uIO/rB6GO2+tg/rtH8KCDPd4102Y2lM1Ac98zMvQYrD/o0fQdZjZL/E1YEk6qlRur/uzr5A88nrcdm9HNGtVFeO2VDNXKGhcZCha6VvxbCe0uC0G8c98jLMO9ZCXOif0fh4v9qFwbbLu3qMRRnNa2kzGe2O7Ity2N60ocL2zZhqd9EPveaRbry/BNst5VEuozd8rYqw3/b1e6YnmDkZmbngNDHiAZ+Mo/09/gF3K1daHaYxzIei66CCDIi70IO2L93F4zwiZM7FN7qKP2lD8acFLeP64fkEXApHuQ08C923exg7ptMra+HLUaVOwhgbt5ssmz0yUYjXJnY0N6wVLyDOugfJJhnDVwtNfrbo+fIA3/T+ahPP7beXEh7WQ4VtRjVNMo4lfBH1/hsp32jycJCPG0yzMvbah9KuhEBUdWr0SLn9CbG4lSKUkPPnuIax4ZTKGJiWRcuaB/I+ocNsYpMz+N74d/0ucOk0DM6q02dTxd3vkH0juRB0mSGlX7Ynba1bAWar00UnP4KNFXyJlSE9UPWUaA1l1RyD5te+x7dWBqOr88qcIFK6WizbYCs135s6FePjB+7Dklq/wn6+P6OnxfOz/5ks8ybNbWzcgV03tByY6fArCh5KiIOVi7ddQm/v0qTle6159Bnvst1abx4Hf6SUVqzKDprzXK3MBa60yKxO1h8A8UaewZQA5Zzz7N7iTNOP2TDlP6UCDBxoIs79bkg33cizL32/4VJafxqMhT3/f+px7iYOVZ95gymuD370pF/kF/y+wTK5zIWzLUlw/l553y8BKh3naim9ePAMAc+DJHcTyefOw08cgCoSLBh6eTtdMT63ULlTW7OYhYDz5loJ3IcoovLwDh8NjC1537r0mXpXl2HXIf+4OHAmoJQpwYSf92XkhYB2puKNocg21ToQSdyjwkr96w5f47SEy5ZePJ6p8p2aTi0vo+SGonCIb9TQP83C/LLByxweEVMbQvxnupX9mWDRAUG1uBK75wYVDO+phDLUT931djvbTl0qDqNxYDHp9N9a9RnqeRifqhc3hCrhjyBtY/NUXeOGmWJws5uD7oqEB3HUP/R3zHuyJhjT02rT7COKHvo9P31mFcfd5TobiNWfRN4zCpD+OwLU1qZyOx9AAsRWqhtOg2bfWGeT9zBG9YZnC5PzarpzcPESQnx5PUp91VwskHN+J7zIM3P7bDUj98C3cxyO4H7NVqLmcvgHT8dpA8kf9XnpsEvo1qIYwx3dOVC/O1MbQNw5h3SvjcUfTCypuPu1t6NhF2Pj2c+gWUwB3NSoy/KCzfoA+Ze14xsW2WXJno+N0jloitCzrDqqztrhIV1knuqWTHvODN5tbJ4a5dWA97H+A+k52cxM4L25dpxLmnE6e4di3OXD7Sud+yAf3ywut51tPeB6vfLge0UGM/NzT9N9eHTfnLWjf9rNfO1J7Nh11GpeHPj3MvQ+KjR2dFy3nnL8ORTXKi32YUBiB8mlwIEHSP7PTUbw9wjQc1El2sdwnUJ59DLz9ZIDGWAacCofq14xhmP1NgdcPeOZ4GbM6Xw79akhweYZUr4TLnTA+Y1p/LjXStxUgtrILedSR8HGcDC9hq0Ra7rh1Oo1FBA3oaKCVS/54LXjVGOBnasgq0XSjQgSFQeEUFNCAnb7z/ZOZBXpDIY/QzPB4utga4PMbcN58zr+4614jqiIxP/MSkLP0bCQ1Lj7Zi5evWKdX8ZQrKxKe5s5zn7TiH48VB79tMdf5O4fn9WxVF07y2wdSOAkPfoJ/TuiFamGqD0XOzyswqV9vzMREZKx9WeXXjpUuM36SJSsMdfqIB7sMfLGet2C/Zyu4EEEKzJNPjfVmS3d29mMjveVCaLl65OAAL1XwSatZBt74pjFQXHZY1qf4KGvyFFQm9Cy/ufe975QOD56yY9zp0fnxLmdCu3vKwft5sz7yp8B1hPHLN90PrbyDheOpnxYqPVT+kSTTXMdyNJ/hCR97erzqIqetyHIlCq0TznE7Usw6qNoAxcMvFqz27JUGx3ImN5Kxl25hCs2PhaccAsnISouFWY70IZLcKK+RNCD2GEhWvTK/J7Tm9F0crL+DYdd5FXjJ1gXKD8nQ5XJRWsk1jwbeusCsuhJIF9vrsK9OvZhnOW18smc2lQmni4+SzacBYz6lL+eCXfbkrzIFSe2SdW4s6URO/9k8TzlZ5e+rn+y446W4oqmfy84qQHg4tQ2K9xy3eUorJ91dl9kfhZ9NafH4o37Nlj/f9lCB0plHss6j9PEznCfe/+ox1Lns/WVjl1mgOsfP+uoHv/ZU7DZrulekG1yOlSicHOr37HXcOy4zH4W1MVUu7JfcnNIRUNcFTCfdpziCtS9HbPJlLP+OOoVgdz5lzitunzAYzp/ZtwWIO8TyCKVMvXUcod0D1SMmULu0sNLPRWRvR250HPZ+yreN+T2joOds/ZyZDv5ki6Mo+dJuFuoZjkO7lYROFS4tZWboCA5Q5+a6sBovD7wDr/Mu0oZJ6FSPLLf8I/jhXzuRjsYY+ucvMHdQE6STMVdmsNKyGTp8MpWXchQE4bKkNAwdQRCEqwUxdC5/pIQuJwoKUFC5K55fuBNzxo5Ap6gfzaUPe4Fr756MOUs2Ye7QMjZyBEEQBEEQBOEKQGZ0BEEQrhJkRkcQBKHkkBmdy58yMXQEQRAEQRAEQRAuJWKKCoIgCIIgCIJQ7hBDRxAEQRAEQRCEcocYOoIgCIIgCIIglDvE0BEEQRAEQRAEodwhp64JgiBcxRT11CDR34IgXC3IqWpXPlKCgiAIgiAIgiCUO8TQEQRBEARBEASh3CGGjiAIgiAIgiAI5Y4yNXSqVixbOyvKFn98rP5wuRBppi2hstiixULLj4mJdiFSfxZKElPGl6odXy7tM1K3wWqlVokc5Brr4CZccVh1upL6v7xT2nWW9Dzpeqb02urlSOnIwdKLTNHGKabfwPXCTL/020JJUZTaWYKk4vU24Yietr6ElaDZQEJpdJXjXdgwLQy1KB18PbvxMjJ2eJB+cB5GULp6Lzh8hRg7ocv+ksN1SsuPyzbuiXk4KkqzhOFyXn+J2nHg9smda2l2gBzfoQUDKA2D8PbB0hhAOciVjZyNLyk5sFv1Epa14KGk6pdTOGzkmHV6CtbS9/Jt7DjUYye0AX/xsuD+52fMf4Ll691WS1tnlC2B5VCSxNS19KKpn0MfpxRWLzj9GXi7eRjimv8N6dJvCyVAKDXzCsFsILOpgYTNyQja6LjDWfNSGHrNAJLn5uPY1ny83AHIOK89CEUkdNlfcthI3EtGTrdhWNF9LrZR2Z59YyhqZxcgV3sRLm8Ctc9T4S6kz+EOcOZV1QFGhgPphzabX3bvw+48cjO/CSUID4hLon6VVDjlHrcBXzKGX272/7B/FX9aiv3HgAgS/NVYFk5yKElYpj+9PQCtJyxFr1cOKf38yeC6SD9TUqcxkmHagv60iClPA1ShDCln9SgClbsDcRWCZcuFnHPrsY4GURi7DlNuNf2KkXOxhCL7S09kBRoUbl6MFeiPmb+7F9eTkj8nRs4VRPD2GVGxLlAr9qrqAHNpAFFv8BI1oMgUo/2SUlL162qsp2ULD7I74klqI74vLq+usggsh5KBpJiTgS+mLQW6z8X0e+oq47HkjBxBKHkuq7bPbwrsOE1329ftM9bsQVRFfpOxQ73JuCUi293wfN8SRVbWH4heDRsj/ZTpzzO9y7MT3nF4lrSZ7n7T4Ho/iF96C9tnY9tHYuH4VsuWZsZ/Kto/HC8/Oh52s8vPN192nKa7L0r2eomChdOyDiU/m0zsfkKpG5wPHhSatEPDWqSAaURo+jXLVaXZlhavcBzKw1cOQdPp83yhM1sO8Tm/1TT9XVS985E/4x1XCPLxCqO4HZsZjx17OgO2zzizbHcdOAz8IgLZerDvtdy0MHnq+1ymvvXJqb4XRqD2YCekehuCXHOzzL+Vo+iz+mQrL598+6fDIc4SoND8O5RHwPbkk0aPnMy/fnVf4XDPp577Phew/dJzweuXd7iMY50pNBwPZ/VfxrFeFFaf3Zh1gfFt04y/7Ex3rzh95MZcUv3AeTtf4JmpJFge3nXIky8L/7ptp8BdJy/w4L6kypTReavkkybTv7dboLrqmxf/OlFYeswwlAyCtnkfOTDu9Pu3W9865auz7FSL474+FzG/oC/NGiH2rE2mOg5fGVrhBZRtIZj6zsSpnfjmx6+OhNKOvOpuoDIUrlT8a0AZEVPde82ntR49Id6TRN91+3yptaFu905IIX8rJtTT972nxLnBmXH4+tNrWVWDOazXt3ri4P0BCQl8z1xbyns+jlsNgRuR3g+i0ms1Opu74/rVqp77nrjM9CaYPtx8/7ZdLmZaE6xWqBqxmS4/P2SAeNJhuvnte+B0BHte4UIMpd9R9nULl30Ux6H3GFgXy/AQ3avG90lm3wwMU/Jz2lsT57MemC8la5V2C08+eEodeB69bH6rVD6pltZxmu1p4XtKeTqWh5ZDVRVB0HRmOjyv5KPqjQOO8TmVPz9/cfUuktPgI393XCow7kDNpYeB5OMUxutb+dmiwGn0b18qndT+g7bP5WbcvJwNq4ahtX7WvXeHng8oT86jTzvwrk+6nK02VSicD++2xJeVD4tQdFpIcnUqU3t5+eRb+XHXO/7r275t199STW9FJJg+UBS1PfmkUclJydJT909yPVRPMt73WE/EcJw+suR7oeiZQ/o55/rlicsK17HOsL8g4VTyql/mPlUrPE9+TQqtz264LhzTbcqjc33lcyLGkp3HneMM1LYvqX6w1WdfXW3VbzOdgXWFE1y+Zp000x6sLEIuU8ZdrhyuPU2m/xpVz3qlk+WdyW1UP67yG3RcYfkJkB7VD/uUQZA27yuHSl7p99Vbphu3D8Z37433RelRergeRvPSuBmd3Pc4L2YcZpoto8aj073dQ6JBOBmn3jLxbifBxyUKkkWgdmSNC4ONT4RyglEGHNu6zkimqDF2nZGdZhgn6Voxlr6TW/LcfLpP19zJ6jv7MQL5+WKu0Qv9jZlf5BtZ+ylc9R1Gr1cOmffpOqf/WteJH73jt9xzKHzreXSfa2yzntHp4DCN44ax7ZX+9H2ysYLucdgcnunGaXNy97hZcR3bQ3HZ8me5m/kz/bvT4uVHp9sKc6dTmg8ZM7uzH1MuXvnyCivfKLDJLODzFMepvZlebup5/RzLJf+IJxxf2Z8kOfiVmzsOMx/nbWVrjyNzl2Fk2uTrCduUA4dXsMcKky9KB/01/XvC4Tp2YtdxHacnXute8PIw4zEoHnsd9MhLl0n3/pR/T5z2Z73TSJdjfD5la/PvVJdCrXdZB53k513GBpVxMPl4xeVOrxWG6abkqJ9xvvi+dx6Vu72dU33kuNz+bGWRs4/ddZy29smytafPXv/MMjDzGLgdBJY7X56wdTjc5pzyYYXN+aC4QtFpIcvV1s45fwY9F6i8vOudLa02mbnj1G5Fxbf+2POv0neU/BS1PdnCspelPSyvtmRrQ+yeT1795O1OpymfYHrmhJKVU/1id//yNtP4J2MHP6vd1BUwnBDzy2UbSn3eqePjyy0L2z2bfJzdTbf8Y05xeZfvJdEPqh1ZefKEx/kPVVe4w9KXR77mM+cCloVz+EHL1EeW7G6VRy8O/49nTL/2NHKebW3XngbLnypz0tH+frzLgPVOaG0+gBzc6beVsy3OPbu9+1pPG7LkZLoZ6RSWk0x5DKDisNU1cg+qP53qBZV9oHza66mpA496ycjPj6NcLXmtVHGHMj4Rrnws07hMyTlXgJvHG+41pUzUrc+BKiAwYw1W0v3wvGP4YTZ953X7d+pk1x+KOVsXYWR94PQ508nCmkGxLw9gcs/oDxprKpQf3/SR3sD+53s9b9XbTAQ1HqxYvQa7T1K47QaiF57Huq1ADL8pyfkZ61YvRa+xk73d804qd4ztgp4UhycddO/8erw+7HmVF+O5jtodWgYT0Vm93TGhBkstUPuJ7Ygn506mDzqeyAItA3Ptfj32E1kXA343l9KyFJ9sPorIaHbU+MSXwcuCCns+HjiwcDhGr+qPmV8swmOJ6lH3c7wJ8fgp7aZxy57ykbNnHt6cYW4qf7KNciZqY8Cf1yFZ5yPS/ZbHO44L2QXIpyT++F9zPfCcYXVhTjKZa5D91x8X+E278xukU151YzJWkIx76m/qXoDy6PKcoepgyrApWEnxeERJYVAdac4frTJZtRRt5lLalaML7R/l/NGzqanIDfNOEy/ZQIfnVH3PHh+gbG3LGnjZUrHqHcni9M55eEZvGv1kZF0dYl3cP+sMZnZfitF/+gBpEeb7UxN/+eSeWY9/8JtXL/lQPVFlGBq8vHHT33imxjt8dCU5cL5ndMLEbwpQNV+7a6z2eTKT6kl0NPIP0JcD+YjWM1sZ53l5ipk+zuOcu2or/0z7Rw+Zedx40qsdBG1TfstJvAmvDKR/+qo7H+21O2rdizkqH6a+igpBp12sXJUs1IEbE9FNufjUu3D6cGwfttr2q7GfBkM+ILnQx7qJfrPHoZD+6eNB9UF6ejHaE+nxx0iPq/Td865K34ppK7HrNDm16eLOU5huS1GUt02pFAflf9TNLhzfcXF6JpfS41i/eN2MkiGHTfWW9CHDe6Yydz3tv18qUDheeipIfnM87S1ofbbvheSwlYy0zqZ7UWEkn5VcBpP93ZXcBqJbIsltaxnph1zP8ioLfsPOy55D1RVOywG9KKkytZHsp+OXYkUzyvcIc37At43zUtNCxxUkw8jC+uEK6qnC27xvX+MDt49PhpvlHNliKKZSGrBqMb7YR3Int7QvzXKc0kWH49aP/dVS8NyfA8jUq4+9ePzzCVwzdImS7YoJc7CS6kl0di0MeYN1rDkG9GtL2eR07EfPfl29QoX1cnbaXThFbS2U8Ylw5RO8VZQibOzw9K3VIeTQILxhQ2qEmoiIWrh2FH0gJRf2Ai91IEhZsrI7GUgrhYxtA7Rtitu61PT6qh+x+0IBYhr1RG9qSGanS0lQJ5z0R++7R3jcqRPO3bcSn6yiBpSUBMOgvFmwVrCULN/jfGuUDAhf48ytdflvrcak/GyQDJh86oyUN/5eqxHcbdYG73mAXuvvppDnC8j/wZ2Uf+oYezRy4aSl0PRzwTYheg4G4MGNt0yt5UlbDx2Fy10LzX01521Kk03xxr9gZTwMtR6ahx+Va4Eypoq6ydJUno3RnJQz2awm3FluXaPS4lseZygd7ZNYyfsOlEycqp1ByjMk2Nihencuz/yqvvuWrQVFFFmMeocYS/7kr11t5GZYeStATkEldOrq6eQiSM5FlU/o2A8YMA3/dPMG9ZB02QayuZS3ImFLn2epm3XpJRZH/4cc38KyvvPfQHJ34MKFDNOQpDphLbdxXzy4x2Z10hHXlcJ02sXLldCDDUtnREa3REOqDzhHlYGDVG2ZBqwfpar9auyYvXuRqiO9WlzDDkVm//4g+oAN1WK2p/M6fYZRGU0a0MeKUaqDiqncEffxgEwPHivZXqD06toFiXEXr2cCouqHqQ857ImrlSsN7gsQHmRAHAqO+SU9HFJ99qoubBx0RCceBNLAOY10SljBSew/Dvzm9ue83K12yHJrUuVy0Q92iqIr3AVaNC6yTJ10fA4Pqhmfh8+EMq6gOKML6Ye9CNbmQ8A4a8alXqDVa6c+M9wem9zB7exV/HWHLkfql5RhrNtMbmHCKUl88plHcZv609KxVFYkO15aaI4BSbedrYiGzegjtyXOgtLtpP+6DcJf97IfIJzawTmqp6GOT4Qrn2JqipLGhcgYSorPWkpz/a4JK9CbJ5D1rt/oWH7UOlf9RqZEGLtOvYX1vyaiM93Oi6hmdgC60626bQFSuNNvVtfjTgrTbECT0Yk0lXtDIKMMHX7LUELwW3zCe52q2UhDopDnc3J+xu5v6AMpnTyt+4oOv0F1kqn5BjjT6iQc4M6n3tAlOPbFXPSydRZe63CLAuWj2NkoQcyZJ59123wktnnbB0pxMepd9gX9eFEoBfmEagsWFX4r51THeNbslK+BfxHk7qH/1NtGp/jMt4sncwvXaZeGAuRz+iwiO+JJbjs2nanqGem5T4Zab/CLwlHs301/LkofFE6+bWYvzzaj+eanRxFL+t6q52Puqo1s9yx98fVMYDiTJEMKw5yNssrSXOdfnBkxJ+z5tQhan30MihxDG5HaMMlWLzwmk34o8HI3jRLTsOGXWEWmlPXnpdEVpVOmXhQyrjh7Uf24T5svJvnUf1zzAM+asGFgpYH3OHG7moieNHbxewlbiuRSG7EbZu7hq8/+GrUnq6n5osecKdMzoTpPag9VFRe/B9QE1hv2GVXhyqUYI8WSJzLmJOaPpQauO2CrkvHUrh1+I2ot+eHLUlL8RiZeT0sWl8jo68y3IoS19MoXbuS+y4i+3PAX4JaeaBxhdz8aYNlaCcNT/7qRm8rIaqBBlgzYYeUawvN5/OazQbh6q1cUfBWT00bEUI6lzD1BfvTUvlUv+G1n77etjatXFmzkmBs0+Q0tL8/QcucBqfbjS3HqXREnvEoNXiJRYvCbPNuMTAK/YfbBd1B4MURExKPZrebnSiRjhyqtjZzQdNqlJkovncEr5u9dWBcPltO5XRWXYuiDYpNbgKimQzFGz0x8f9haKmXW89MlpGcCYz5rLUU09SPP6E3BSnK3NjWXCBxVceozN3bb8rWC/3C9M+Vjd//hG71srZEL50rz7XwxKVFd4UXplGlMKOOKEPvhS06UCxe+55lSW5+kLvPljTkjXHZ4/Z4YcTJXH1QwjMrNpt/U0sE9+s2Bmimrq5e40X39wrTRw/PwE90qTG8I5YOyHyVSCtzLbebmw5hgrvHlE4u8ocFDtAtVraUtkS60vzvwwJCJCTAQ8acAYRE1zClPnrbdU+A5cYziYdzHDVJjt5YRbT30AdaxYupQBbz3x+O+Rh21rKby7cvWGHeHREYaLzfijkhjrVkOVcnmU1pSl3PHxW+X9Zpvnd5Q4PXahT1fIa4Guo2nwdmqxfh8XwGq+cglkPJWsncPQs2lM5F8uonGymuh66wJ9ssvx82ydCHhrqdKrgMIUh6Vea14Kk/bmzMkJTNtT+HnHMNnaqDGA2DzjZ46pSoYxah3HuNIr/N2n/bloj7trGkU6UFPwLfz7jLU8rH2Bjg2LPOe/9GcnqU11oyU+60pz8balr5E8rbQgBSggN/K60F2BNU9dVqQtQzlvQ/wE9VLdxXVdbMkjWFe3lG/BbeHYXgrldqDezbZEwefrhWSTgtZrsXHWga0Yr+56NOCB8tcTkWntntJk6M+4NUzl6A95dC4xZqZWPepOSsx8+4k5PIarhLSM471i8tD562K1uWR1fVSuoAECCcUOIpi1Wfb8rX9a/DRF8AjN3dUesDu/v0+8npbTzSJAC6Uun4oBBrwx8cWRVcESpSdkirT4hERwrgiJoR+uDQIj7ZmSs2lYXZ4aVhobcj8kVJrWepF/VgplVkFt6XrUyebkHz07CQbhubstHkKmxdqpqwAlQrMco5qab4wwaoLuq0F1xtC+aDsS1NVNo9i/17/bsa3KWFeyzzyY37GrObWUaRE7mEs+RMv9dHLw3hDvA5HvfU7cxjzps3DSaq8obS1HF4/rjcX2tdzWktPeLrT/GVlSp9eRrRiwjC1fIg7grP85sDubqXL77U6b5i31px3QthLOj+EOW09BWv1et3CiCAl0OSX5qDrH1v1GxeV3tCmvHn/S6HP00DaNCyc5aKWkPFGSSfZk1KPsTY8OubV6dhVb1jhfPt4mO24xwK9UVWvK88KTVaBCVwe1q/z93plhNrYX6yVL36wUV0LLVVH/iqWUKegZvy+eSnI0jWmGPXO/iZcz4CZHMb7D1dW6/2TH7gXTaijDShFWxgsn97zdBiO9cx8w8Zl5T4GW5OTQ+1LvZjwvDVVrKZ8894W6uRHJblwyq+9WLDc4tHkLvqoB9k/LXgJzx8HqlXVG2apHvObOmtIbx2Tquqoz29RFZd8ag/Whlf7+n7P0bC6/Yag0yqHLNfiE5ngqdssC/uldJr2VxQK1Qd1L0F7onoRmfSEuQRlAtcXq/7TPZK3e2O1T5yh6pmA9eskKUmdN3WELpGrD/hwnrEPVE/NlzWhEOk+4CRYffYPzL18bcYwNVPcr3WB0gPe7jQwvKmKqTdLXT94w/2PuefCnKU+u/El3L3ehapUThenKyxKqkyLjxHCuOIoyfdi+vGSgnWbp2176wqrDTnNMCq4LKwXHPqwEcZX54VKOO9ZI3k0/PN6ZUv71Uney2YzUszZaRp3PGrqGLV0jfc7qZky82hrJmfNS1oH9URzul+Y3ij6TygIlyMhqt5LjE2xW3sw1iXlm/txNJX/uxTXzyXl5+6wrWU/5qksZ0mpuQesKhy6T4p9Np/kFOLbPHPdrvd6TmvpSf5zd+CI1vb2JVlqUyc3KHZ3vyEjgihMte9k+BK//Ua91JQxr4UNrVgMCtw+6FLh/AmYqvJAndfZoD27mg0I7XlnufByGD6ph5eFBJJ9JepQnfNqvol5osp3uKBnmf1xIcqYgvCh1FHY6ob57CJ1alLoB1FQp7+T/uy84Ndpe+0Dckgjvy26uKUv3ngb1VqeqV1Q2FKF4tS7HEq3tbfNs7nZs2RuSgfqWFWnFFg+HIZ1YpY7jG4/Yoy1TGA9pYKrrD5kw73Blj9b8ODfvV6aBzA633rZQc5fh6LaueAbgT3Gkim31jTgfeXD9TD4oVuf89vHxR0sz6i8e9PPOFkyVirBG14rY+jfrBPEdD54UKLeyI5AnU1k5NmMr0A6zQhFrgEJVF7kzoOp0yQsar65X75EcoCqx56lKHoJHaXtmU+Ls9k2Kbg+OHzx7SmXT1vba88bfXJVMWeTCHMA7qkvvLy1+HrGxLF+zVuP80evxRiSl7usdZ/AJ4ylOywjC1RPo/XJWU545ZcPJimsPlOb94OFoWdXvPSAbRDqZSASpaYfHOD+x5qdV7IlXbB83jyOwra3oni6wqKkyrT4cFjBxxWHSDddE1I/HEKbvwhyok5iydOkxyhddl1h9UumAVNA9oNTOuiTtR9QGahmPt5seMisx9pXaBTgLBk0vOJhW8NXTXmoOmm25Sm3Up085f1yw/TzOPA7S7dlqi5pRdYdJGeb3HUdssYthemN+2rJYQTlgTA+Y1p/LjXSt5nNg4+Oda835ilGVvAanibN4KpKbryUi48q5jdyZ21+GHXP/Kjg6X0euFqocPTbBQ/cBMgAssfvhgYpNEJTp3lolD8eN9Bgza1cdXr5zZpXp81GCvlzDtsHnzwz7vzocAKF78mXd3p5KjyPB3XkVi2KZM3PBgpLEcLzCn+5+IYXVPYOeeUlBGcp3FxKG8/c8ClVvuXJ8VaicHzLnZ8NZORY6fD2Y6afXwTlUR4cH9VysuMbj2M6dd686xq5BaxjjHnfwvTHn3zD8aG49S5YXVMULh8r7xb8fA65UXLNOOkz9s7DiI8aYfn4jjgeIN+F1aOgsvMpIy8/DuXHsjyVa9axgO1AuweSu3N98peHu+3waUDsz0fmKnzOG7nZZV+oXBm/tAcqL9O9It3grKx+MAyD2ugBnPtULQpLzUB1wlbu9H9ftEMJTP0dQjk6lEdI7Ylgdz4dybcuWmURsI0UW89ofNLM9esc9ZC8P+C8LW8B25mFQzjsv0j5dZCfV312Qj/jnz5ypzZl1lGH9l0a+sERM10W3ukLRVd44yjfkihTLR/vemem3fc55zL2z4t6zj2u8L7v3A8HKgPTndu8lQ6/NDimn9Du/GPpJ1l3d1uM3vwSsT7FqSPgHxH96e0BZCS2Uy9iO1N82Y7pIHxkrcqLjXJy87R9Z7l58OTnHAdnKyNf/eE75lBtvYILESRXTls05S8njOqhLR7HOuRQ/624ElpzeoUrmTI1dARBKC9wZ8CD51fRkDpK8+Qx845QNvAggJc78UwAv8X0nCDEv8rPy2L0DHIRO3LR34JQ3rD0t0cvWL8Rlv7pILcOUb+T5WsklHPE0LnyEUNHEIQSgjsE/5kPoeyITHCp5Wtqb4MdXp7yaJL6WNSOXPS3IJRHWA8cxpKneZmY6WLCy7gW4bEWros7qfEKRQydKx8xdARBEK5ixNARBEFwRgydK58yMXQEQRAEQRAEQRAuJWKqCoIgCIIgCIJQ7hBDRxAEQRAEQRCEcocYOoIgCIIgCIIglDvE0BEEQRAEQRAEodwhp64JgnBFIKffXB6I/haE0kf0nyAUD2k5giAIgiAIgiCUO8TQEQRBEARBEASh3CGGjiAIgiAIgiAI5Y5yYui4EBltZqVapPojlBcizXKNofK9KopW5zeh8uXQNM00VK1oS4tf+qTtXa1E2uro5VFfLwVm/S5c/xSnHYQatg+xZjxe7bIMiNLxV1L/EyWsu/zC98G6L3pHEIRglIxGKg5aWQdSYqHDncXPmP9EGGq1GYS3D17Nis/sOMvNoIM7zoPzMKJNOOKemIfjRR0QXGnY8tt7weEyLkeOez1ep7RET1tvDqoc0idt7+okpq4LhxYMoHIPV1fZ19dLAdfvDLzdPAxxzf+G9ID6pzjtINSwfeB+c+NLSubcLquXkbHDRsaGaZzfKVhL3yuVsO7yC990duO5L3pHEITglF3PpJS1sxIrKrnZ/8P+VfxpKfYfAyKuSqVndpyzqeMMm5NRPgYdXI7HfsQK/rzqR+zOLkA0fxYuG6TtXZ389PYAtJ6wFL1eOYRjW/PxyeC6SD9THk9jcyGmBf1pERO0syxeOwgtbDuR4UD6oc3ml937sDvPVJOCIAiCM+VgNMyda0c8SZ0td7gvdwAyzpt3rj4iULk7EFehHBQrc57KtsNzqlyPbZ2IzuR01rwjXDZI27v6OIovpi0Fus/F9HvqqoF2+TRyQqX0+qBcknO9wUtUPJlvDEXt7ALk6nuCIAiCP2U2Ina/lSJ48Oo9A8GzE95JCz5DUeBer3vB6mBsS+Osexb+M0j+8cXH6g8WOjw73uGYYah02vxa66g5De7lPxrvtdkhpIHxSYcVRlRFfqu4Q71VvCUi2z3wcJwtc8vGO05z+t/bzXH9uC0PFk4y9cVreYEOg93sa/0ZL3+6PFl2biOnCGXrG7YdKx5fP4WtffeN06nuKjcfOTnVYa+4c0MbLAaNvwiyCa0cC8Oh7YVatoxPfbbjWP+Fy4KYX9B/zRoh9qw50LaXlW+982tPtvph92uGYWs/trrhDsOnvoRWRzw6zbt+m27+Os50r0o61QtythsV3u3ZoR0oPHFbOKY5aNje5GaZfytH2Z4pclsuLF3+4fm13VAJKW3efqqGVK4h4lNn/MrbrTO9ZWLm19vN91ku84D9uk++ncrUt60EK3dBEIpH6beqg/9Q63h52QPwPHr5rfHm67Be72zec9+v7pxcVhZe63lZcdmWxpn3rLBMt2r8oMI5vmc3ktKJN31EJljhee5b4SS4laG5bIzTaffL66gT4l34ZmCY+mytY+Z7vO/kKCtFpRADpIHj1jilg8M4T+GbeeyEFPK3YkI9fd9haaCXbOxxmmuda1Q965UODj+TysVS7pFcBrY82OMxZUGo/Jj7Ozx+zPATePDA91UYppt9rb/bn5ar3z6RIpSt7z4C70vHc42/H1VmVTluX1yIIVl4x6nrJsXlVw985KT82cozhmTpm/clx/TNAFR2l7VPuFwuIcgmQYUSYjmGgF/bC7lsCcqLb322X1z/QxvICqXGxpepbOphNC/TmtHJp6yc24faS2LpEJ/6YffLYVSqGFiPVqvmX1+UjqzKAQeC2+QxrdN0HdXulm5hHXcixtJxHneOMzYqQrmiQTiy9wVuz37tQLnyveB9i6KQsL1wy0/74T6T9WKAtuxs7BSSrsL0dxEobn8R9hL1lSVAFOtxnzrD5X2I7ql+4iL6Qy7zQP16Jsfrk2/vMi2sLxEEocQwyoBjW/ONFWNhAJONFfSZvxs/sjtf64xkSpb93rG5k+k7uY1dZxj7zeft18k0wyu8c3vIj/UMXb1eOWT6/WKu0Yvdus819uw2jBOFxJc8l9L1s2Fse6W/dzhbDxkzu/Mz/Y2ZX5CfnRTWruPazTusbEqbJ32eZ/he5i56jp61p2ubfs5KA8fJsjlx0Dkdf1Fhvmr88JMnHM99koUVnnV5ycaTFjN9/Y1enIc/njH92uVOeThB6fBPg+dZDiuH/Pnnx1teXn50+GZY3mVxzl4+5Idl6Z1+Wzp8yjbTllYuR+/wg5Wt6YfvF+yxnuOLy/ioVz7Y3f68KqcA9cAqfyvck+TXcvON2x6eJ357PbflSeVby5XbRjDZ6PRkhVKOXC99ZW+rq1b6/NqevT7rZ83wrbxpf7Zy9KTBqic6/KOcBjNtfAmXB+5ysumrAirPU3sz/dqHvV3+uNdH3/Hlrh9mGF7tx7pn1bnuXGetNuWjU3bq+Jwud12z+fXSI07uptvZ3SG2Z992EELfci4ttLDd+eDLtw1Sv2CXsVUeZhgrzXZrfz6EdPmH5y/rYO3e0g1F7i9s6bGec4ev3a3LE7+t7Hz9UPx2WZruVl50uA71gP1ZYQfrD+362CMrLVuqq5Ze9oRnlWlofYmZXs8lCELxuCxeHfBbJ15qxcuvNv2NZyUmY8XWiehp3ga6PgdSMuoN4sRvCor0lpcUCz4ZXld9jmwxFFNf6Q+sWowv9hUgtnKA+PS+kJdvdSF98zw8ozfdfjLSDAeoi/tnncHM7ksx+k8fIC3CfEdm4h3WqXP25Uj9MfOLRXgs0fx2IbsAYVGUho+GYUX3udj253vdb9zRZiJI8WHF6jVqw2nuTud0DNtlIHPXeNT0WRNuTYEH29OSPJfS0pw/udD+0XVIxlKsaLYOxgjzPWDUrc+BFDTJfQ1WUj5yz6zHP3Qa5txVW/lh2j96yJTFxpPmy7n6QzFHryGvxx4i62LA7+aiF4X/yeajiLSdKMBhGckdzS+xHfEklzOex7qtQEwh5RysbEmsSPtyKahTwpQuunTc4fdHw1pAdibw43/NvQZzhtWF+bLSXGvvv86e8p9dC0PeMKhuLMLI+uzmQoN73qW8AyumrcSuHLMe5B+g/7g8qR50Y29u+QIpqanIDXchZ888vDnDzL+7PCMp7i9YTk64YOQdww+z6SPn6U6dJyVrMz0nKX4Lu2zQnPxoub756VGcDqUcK2jHiyBY2cZSFft5z/NKTrN+be7z8NQTqv71asM4ezXv+7i8UXX8QD6i9TKdU+H0deFwjF7lreOQSHWP6/SqYXh84WFUI53rhuqx8ZyuH4TV3qz2s//pjipsq22vWAUKm3SrcvTRKcH2JXK4bboo/Wb5jQojvbuS6t/Yyf7uqVwvB6JbIxfyqAoW2p7D/OMOC9SXWX1LBxeySa8XJ2wveMJJHdhCcv/dvbhez7jcPN5AdtpdPv0Pz0IUli76XJj+DnEPaCj9RTj1Bar/80nPNUOXmH1PcaGOyNKxrAufbKPdURsD/szy1X2MlhdT1P7Q041R2qnvVo9aem7VUrTxC88qU5JNCH2J0omCIFw0oWmsUoEU07n1WEeKCWO7oGdFMjLMG9QD0qU6qhCVvw/WgInXNifUa6c+M3l5P2P/bvrgGx9vgidO5ZMBtnmx6kR6t6uN3Ayr0yhATkEldOrqGVhHUJLMTqsxmlPnf9L06EM7NcA+f05/teeZBgKtbVPYfKnlfXza2AWKV3dmvunIJWOJDabibkg1bINji5xs/cE30K1rfJbGWZdeynL0fyQX+qv3muRTJ6yC4O+1GsHd1/hixcN/azUOMNB3JlDZRlIv0eQOKp8Zr+KvO7S8qFzVIEaXA9P4F1yGw1DroXn4UbkUKCPReTOxKW9e7nBSpbkA2WcromEz+lgxyrsx6UGgZWhGRrdEQ+rEcC4cLkqbc70KBhnFEbVw7Sj6SAZ/2At6aQfJlg1/Mz3euA2FU3Tp9rNiP+Uy1HIsCQKUrWEANZrygGAY3vhW11/KiyUXLp88hzwJlyNU83My9AEFA9GDDISTlo6jv5GNeqO3NYC7oN2JXg0bA3q/iR/UfrIs3eRTD4peLfglWkd0okEqvzhKIwMjrOAk9h8HfnP7c17ulj7u1bULmpD+cjeDIO3ZicL6Fi/9UsSwvaA0m+2KDIdug/DXvaZzOLmf8zFyuJyMUNJVVP3tRAxdIeiZ4yec+/x8qw8qJvyixtQlNGYYZo+bL3OJ99ZDRxFGRoedIvWHPjjddgrPpAh9iSAIF8Vl254C6ocS5NwF60jQEoyPOi3f7iUkxq5Tb9T8r4noSgNv++ENZQ2/IXNKa/b4juYbRF73THivPzY7l9Ii/0wBrnmA3wryAMDTyfWawW+czbfCp/kEo6FLcEy/cbYMzcDrpLWbz5rvXtxRNy1sUFKA/D36YzHJIdnePMFwz25a8fut+Q+R4OWoPV0qKC+RdzynZi3tAxE27q03q07Gm3C54kJUdfpD+o9nQbwoyDNfAlUvuwFcDhnW7ZPYsDZfTGXvW4lPVk1Gj2YFXu7m4Fy/gAhkhCmCt+cL7uOmi9O3FEFXcBtRMzB6lkTrOrVPpIpLz1J78ByDHSRdJay/g+kZO5emz2d97xy/OhI92JKHS8rF9CWCIBSFsup3CoWXHpUmpR2fRWT0debbOyLQiSuOkwtlge2NfILDsjK3kaOVt2lUWB2LOXVfakS5cOF7XrrASyLsHZy5VCBdD6JzT1Ca9VINvq+WC06oh95v642+bviz3jA77Hm1HMMKUy1n2JOvfF1qck5Ret1Hbptxs6EwcTUQ7zuqCUQo5XjJcSE3nZe28HIkq2zMi5fPpPMslHAFUYCcE/SnQbia3fbCFYHwBvT3RE7xXgKVBD7L1wr+M4zajjmLYHf/4RvPsrWzJWRoX/K+Rc3A1NVLoagN6Rc3jR6eh4PR1iEL/jimq6T0t3umycRZz+gPmpKUUy6pY/sMv9OJcWV7JHrZ9yWCcLXg2yWVDaRc42M9ywusNbDu/Sr8tlpPgycnJSHSKBkFVaVygPj0G62q4aQs2w1UywLU2mQ+JUrhonH0WaxbbS7VsNZyFx1ejlTDnK7mJVZ7KA3WYFVtdoE6qpKXdwRKBx996X88qkkMdeKBOrlioZcvpLz3AX6i9LmTqg0CNgx4jXvqcnPvxTYyKh4jo8LKS2nCa7/NpQub1Q/42eGZAmufF5+cE0PJM+XkQsJdTzl36Oxfv+3lzv+Tobz/xTw5p6gUUF0xO2FdnnyaFFOooWKWd1VruQXJtf3dvHbeGd7/pfBpP6GU4yWHI1VpMn9g0Q4vn7HSwOUjXO5QhY6KR7fx5lLez/cVoJpVqehv7r5P8MkqoNf4nmjOS5ouFVrPOB8Pb1u+tn8NPvoCeOTmjjCoL7G7f7+PvN7WUy1buxg7p3Kgvkz3LSV6mqAKswCVWLEQUS2HYgzHvcq2TlARpI/V6apOOqNE9DcLr1A9Q5+tF306PeaJmS6EFyNKL1T8eknfR6mItJ2iaemUMjvRkTubUPqS4shdEAQ/yqwlNWxInaLeEHh240u4ez0N4EgBmAM3PnZ6ClaaXoHVL6k3H6x8RyW5cKqEpjhc1C84xqffaD37TQGq607DestvchjvP1xZrTNOfuBeNKGBZ7HsHCLnHG/ONDc+2tdYW0dT8hKEdCqlmKbO6ZjbPAxxzafhKJek7lh4vfn3Zw5j3rR5OEkKvqSMnUrujZbm20JzT4vnCGFe8lW1CtDkl+a+l39Q2aqZE5WX0l66Rh2pMlq8l65Zl3ksrQvfPk7y08eNcimaG3WtpSu2UvXpONN5JojkP+/RsKIvN6CwIpOeMDeeUnlO/FLH8w3Vu268MdcJKseYnzGLylsdZ8rkHsaSP5kbeTtRwV+wvSFNGUZ1aZf+4tN+IkMoRx6EXFIorTG3PaNk4L+GXqfBdpT2iE+P6geFy5Fcr/Zm02N7qe2rOj0ZY+6qjfPk75LASk7rTHWctYOx416+NmMY6e7J6Ne6QP3mjbc7DT5vquLd9osB780I2rdsLEA0HyRwsbDhqMI0j0Nmcta8pHRSr1fIsCTDhVWXRU4h6foD9Xklpr9D0DPVqtTAgAfID6fn6Q9gqiybXg0R32WuVSnf7gNqeE/jS57jqi2dwn1AyLPgJQlP2BTWl1D1zXUfTz0Fm/g5QRCKRZkZOtabczXIoUHY8nnzsPMCKSf3emNWxHrgo6d3c/46FNXOFX/jvR+841rFx4aGd3y8rnhKV+DEz559EZ5NlbyZ0lwSNYWX2SjDizrNnfSHMlG0LpJ9U4fgs8ZaDXjHrkP+c3fgCHnJO1OAW5IN99IqKx2/ocHrvp/Go2F2ASIrd8R9rNipY2nNaaSOezZ1XCX242u8YfXW5/z2tJj7KvLx7k0/42QG3KfHuAewfwKmqvzRwP5sSZldwcmJOoklT1PnTDK0lgXYl2CkDKNO/tR6hA+l77a8mMs1FqlTo7w6z1ySr63jNOX/OPA7c7kbVmXqcg9UD8idB3+nzZXoueeqwDy5zyan9xpjWyA50dfo/y7F9XNJ9u74rXponlZkX26e/MpAfGLVJTZySA65f9PtJ5RyDLo/4eLJp4HIt1MjKf3vUJ7t5aPzP+Fx/PX7Av1CBOoUNuHywb+O8yfWY7z8xl+P8V7DzuSj8C0RxdSjbDSoA1uI3fvUSZV+mobbs7WcSi9bU+lxL2sj/Jathdae/eDlZEH7Fj51rZhh+7As6w5vmev+kk9z9FueFUK6Skx/h6Jn+NQe61RVt5962P8A6QJ2KxRbvm0XG7sVs4F6w5f47Wm0luQ9UeU7nCqxwUQRILEU2pdwsVkHQHRvjIb8VxCEYhHGZ0zrz6VG+jZuxWxj8V8TXn6V5z49jJfokE7mU0k0vJQl2Jpano7mzdp8EKTqvHgqnhQtT097nXCj3XnNrmcg650WJtBzdtxxKcw0c3/ryYcHv/T54Z9nXoJxivq6SOqcrPB42j/XJgdvufnf98sH4ygbUwYqTkqnhWO6eUpdrQv3wGGdyqW4lbt3Xsw00gdyq0YDXFWOOgy/ctXunrQ5pKuwsiW/J9Wb5MXozUZLff1mkuAfEf3p7QHU2bYzDQR6Jt2nXL3rhje+8mW/Zyu4EEHlZJZDoHpgulekGx75hiAnOySbShxfoHrI+ec3s3rQ4jlSVdclW7kqQihHP9k7lJtfHSm0bF1UbrxGvRPAg6tbKa/WnhxelqlmoDYrg/ORFi4cV288SQe05vQIZQ3rb15CWZius/Cre4Hqh8K5/Vjtzqtt+obDB4h8RnVn52MwRtV0CJvQz/i3B65bBX76NFB6LHd7e3bW8Wa4duy6LdSwvfDJN/9Adk4YvGTuLFs7haerML1U1HZvx1vPEFp3W6i0cBrJzVueHnzrmR2n/sKO0tsUvopf3/fknyE3X91H+ObZscxDDC+UvsSqk3yyqug/QSgeZWjoCMKlgjsEcyBt/V5Ee/MG0j8dpN4oqjeefOpO0MHAFQZ3sDZDx/+3gC4XeCD1M+Y/UdNcKkQGzQB93De2TlHpV7+x8nRHr/KRjv7y4LLU3zyY5qU+3X7EmJBnjwThykH0nyAUDzF0hHIKdwqHseRp/ZsNbvTStBYuvTa6HHHFGDoMb74Fvv2z/1p8tYSGf6yXT5izIR395cFlq7/1zEGgGQBBuJIR/ScIxUMMHUEQrgiko788EP0tCKWP6D9BKB5lYugIgiAIgiAIgiBcSuQVgSAIgiAIgiAI5Q4xdARBEARBEARBKHeIoSMIgiAIgiAIQrlDDB1BEARBEARBEModYugIgiAIgiAIglDuEENHEARBEARBEIRyh/yOjiAIQikhv4UhCIIgCKWH9LqCIAiCIAiCIJQ7xNARBEEQBEEQBKHcIYaOIAiXIS5UiKMr2qOiIiJcqBjjQhWbW0kQXdkML4HiEwRBEASh/HDZ9uyV9N+SxYVIPUiqFqn+CFcNl0vZm+mIoeuqqIKR2ojQxoQvkdrdq71HuRBd4QK2Lf0zxj1xM25sE45adLXo2xVDnpuOxbtPICHeObyiwkbO9+8PoDiaYtiitEti7Fh5FARBEIpIfiZ2fDwN44b3QNsmTdCErpYd+2LY07OxNi1TeyoJMrH25b5o2bovpm3K1m5CeaCMeuBUvK4HL87XFKwlXyVr7PAA82fMfyKMwh+Etw+W/ICXBzRXxwDWHKwHGrxeflz6svfHSUbsloG3m4chrvnfkF7e6wobOQfnYQS16d4LDvvVF24vhxYM8G7vMS5UOLQCycMS0Wnc7zBnVSrQ5nZ0SrodVU99hRXzn8DQ3q0w7EMydi7aKHEh9/x3+HL2UuzHj5i3aiN2Uv9WkmViz+Mm7XblswUpesDhfKWQj0tBBhaM4PBHYsFR7ST4c3QBRlI5jFyUoR3KM8WoE1o+TUYsoKfLkKuqnKikFo0MUk66HKf6aI6Dn2PcrVXQqu9TeP29VUCTVmjVuhXyd3yMea8+jC5Nq2DcyhKSX8ZazH7uU5z86WPM+HKHdixZTBlcKv0oBKJsR6rd52Lb1nwc87smojPdPmv6KjFys/+H/dRWABrYHAMiSnBEwwOa9Dk8gJ1Zzgew5mB9Ng3Ww+ZkXDHGzqUse3+CyYiM4Rb0p0VMGTe+soaMjDPr8Y8JwMwvJqInlcdZlwtRZzdi6rjemPmvo0i4bTIWf5WPbfNX4+N3VmPD16ew7pUxaN9mLEbdXh1nz17s6Y0FiIy9EXeM6o+GaIyh3TugRTTVFX334vHOY3vtWm64LQUb09KQ5nclo632UrIcRNrX/Hct0g4qhxJFDULKevBbQlzYu1d/Ki+YA2F/o6AYdeJgmnqxgq/T6OnSIFDay2M5BWfv3gv6kw+bZiMZpE+esWmO81vwYp878foG+nznVGw4YmDLquVY/tFy7Dp+GtsXPoPu3V7FA13jTf8XS3xnjHrpLlS7pg/G3tFSO5YkWzCb+oKU9ZdKPwqBKPOxVnQAo6CkjRwe1AAd8aQ2pl7uQOrnvHmnpIioWBeoFXsVDGAjULk7EFfhSsnppS97f640GZUy3OiP7cNW8xsZF2TkxAAbZo9BCju2mYz3/t9zGFAPyMotQE5OAfLzq6D14BlYNf85tA8vwHll57jU8rOoKFPOLjKWKsWSMWkXO31nqlZ0IYzKw/LLBmj2mQLcMHIJvtu6B3MfbIL0TA7UvB8Z6UJsuAsV9PMcdhUKI0J905BbDLmFkz9/KCxbHoWLpS2StTGVXO6sRqF4FKNOtE++xAa5UFQy9u3RnyyyseUv4zDpP7HAjS9i8+IJSKqtbzHhcWg5KAWfrxqPttHa7aKJQ+dnl2PHtuUY377EAvVwdDf+vfeSDzwEB5x658sLvcbfju+yoygaaPAgxu7XeQlZgfLLXLDqm36Gw/RdS+8bj+99FSdDA6FcGjDtOnAY+EUEsrML1FvheGqjFgGf1bjz4FMkvv4UDjLxXeZn5dOiqDMvgZ6PqsizIzvU7MgtEdlIp3wzXvHrgaGFX1no+5Uor9a+GcaUt7eb77NBy9pHLt55dih7dzr88+srT9/ys+NfH0OQEUNB2mcPHMuoMFm6Mf353dcy8atH2t0ep68MAj3D+bX7DVjPyUAJCGe8ViO0wVKM/igVRhSQc2I1PplhTuoPfWgMelQH0r2WShcgi2SZS+FaRk5sNWD3p9Px1KMt0bpNOOI7t0S/l+Zhd5gLamUby2/jS+AlsQ3+37+RtXMeJo5KVN95OV3N6i58PYWXNNL3t63ldevV0trqQ6Zj84Xd+MdLvdQ+IQ77vhnrERmvjR02qrAXi6aNxJ13mWF4X4O88ihc3hzco97zC5cl1szNlciVnPbSIb5RU+DrZMy21vdmp2JR8hZUxnmMfv5JtLX1MYHJxoHVszFuSAe05KWJrTtg0B8WYI/dttiUAl5e2/K1Lcj+YQEmDWqrvpuzbdYyyCZIca8z1st0u8/GjswdWPCHQeY+IQp75PRUZORrb8z5PVg+lfqt9mYY3tdIzI9sgV8m/gvJf5eFa6WNbVRyGVKVkqfX+NsHD7zHIqGq6YUHXN8MDEP0tPVefuOemIejDoPkDdN4QKL3BPDATT1jhmmupfeJRwcQU9daa2/dD1dxqk3ReiDVawZ5XDVMDbj4+7MbzUFgDA2mAj5LeOVBD7K8/NHzbhxlYuYnQXkw/Zr59PhReyTs4QShMqXL8Xm3eyekkL8VE+rp+549FlGcPi0P6+KyOET3aExqG3jyM4f1vhn2Z8q7RtWzNjfz2UwafHIxBCvrTAe5qDQnmHn2K3uvdPjKy3RT6SWcyt5zee/58cTjJKMCz2xAg3Bk7wucXqZQWbrhZ8x6w/eP2w0/LRNVjyhtCpu7ipPkG0OXb5nzM9W17D3PmPm1+w1czwdhyTEVowNsqZizbNnjO+IU/2zxnlQsVvf6o1OLqsg1rZkAuEjWwDdTE3HjmCcw5+ssNEy6He1jd+LLvw/DXc8sxpEY7/af/tE96NRvGFZkNkanJIqjeV3k2TsqX7ZOw/0DrsXov+9Fw5taIOH4TiyZ1gkD/pqm5BIVcxjvJXfEiBlzsAlJah/RtTX1s0zDFggP9+TxqsTaD2Hr8H3X6G+ZSu68Nt/uN8ASMuXXvsZdPWOGaa5/1887xON9ny5rP4Ae/LRLps/vDEEHfd8z2AnyrMadB2tgFMCfwk8m/mv2zXx6rhLZx6Hz6b58Zazuc1o8Az6PHO1u/s8GLUOf/DrlJVh+zXuDMJE+f3xPgvbjkZl53/ruk06vy/Kjy8heNu68+6bFE4+FX11wXwHqdpC0M1nRlQutu0wwGXmhy9n3vhWHvV4zprs9Tn8Z+sUVtK4w/vXlZEwQfa5n2dyzcjs2Ywrp+EgMQOe2cdoxGNlIndoBDe94GK8v2I8GrVuhzrl/YvHkIej75HKzHmr27j2HrDndkdB8CJZlNkCr1kno3Maz/G2vw3LCvf99GL1btMKQ6YfRoGU89n6/F588cTNGz9MzUfkH8OHDzdAveSZW/VxX7SNynU7H3jy6d5bCq9YUDSu1Nmcf7cvzhNLBKAOObV1nUJ9ioPtcY9vWfPrufeXspL97yN/cyTz8MTB2nfveirH0ndyS5+Ybxp5842Sa4XajAZIx8wvTX+Yuwzihn7Euj9/Jxgr6fm4nxfHFXKOXepYudzw6fdpf1o+Gse2V/spPr1cOefnhdBQc4TwdMmZ2p2dseSrwSR/7Vc/a8mXQ/UB5sMdpUBqCy8RMq2/alR8rjzo+6zmnyzG96nkzXVn7PTLzyIJkyc9SGv2eteRiydyeB1tezef6G73Y7x/PmM8Gk5NbzlZdomf9wtPl41UOTumw5cWSFYW/Z7dhZNrK3pMnS8amm7HfcjcvloOzjKhO7jqu5eFJC9/zS28ostTP8nXCnU7PPY+b9zO+fs/uzdTheuRnl8OPeyndAduKf3p924jlpuqwfsb3+nmfYfzwxhgzbIf8OV7/M4ycNR8bKX/80tj2Xb5xmtr8yX+nGk9ex2G0NSYtoLRRtJ5yrm0MeGWPcYb90bO5P9jrhT2NVrprG51+s874kfJ+6gcq5r+NNxLY/bo/GV/S88cW/Mlozd+T3jA20neO/9hXi4yh7Nb2DeOf5Jbpk+bywWZjSmKikfjQfCNduzjy3RQl18SUzdqBnkxJVG5TvtMOhOUG9DXmky4NBvtNTJxCKdAcmU/yjvWJR6fP5i994QjlZ8RCK8WmH0860o35DznnyYzT5jdIvhITR7jz4B8nEeBZT1r908557O/zTFDI/70+8Vrp88uvPR4rbbY8mM/db4wgv+7wguXfLT+rjowwBqO3T3hO6ShEbqqcfdw03vJzQqfFt37Y5enOuy2fFOc9XnnypM2TfjMsbzcfAqVdudcwKnIcvmnzyo+DGz0buE5omXrdM91UHh3cg8bvUN6O8nJjyWSgpz1r/zUw1OMWhNMrniT/FXzkUAgH1hiz5m4w9mfp7+c2GC+1jaFwmhjTt2s3lY5aRn1Ky4iFNJjxwiMj3/KNjoPR5f9SjdN5pmvW2heUv8Rbpxsq6O3TjUT6jh6zjN3aj5G+zBjFfu4kN+0klA36FW8ZYZv9sL8F5jfGOL8erw97HjSggvGc521ol+cM0MAEKcOmYOV5wLOSsj9mfrEIj1FtYy7o5WOhQoMcGlHqeGI74sm5k+nD81i3FQgPB37871J1eMKcYXVBiokw39Sq/R4ZQGR0NBv1wIF8974j3geSc64AN4833HtDmKhbn1N5wIw1WEn3PXmYjBVbKQ/UCvmNdYN73gUNQLFi2krsyiGnADIxw5+IrpVdSP/0VaSocGybn2vdizmcHx2f3xIqNy4Yecfww2z6SHFMuVNXj/pDMYfSNZLSdfqc6WRhLX06G+lCzp55eHMGQANzPNlGORO1MeDP65CsZRljCk+RPJfy2pw/udD+UfazFCuaUd5GmCkMKqc/3wv1qFVWq5aijV94VE9SU5EbFryac3o/GV5XfY5sMRRTX6EuZNVifLGvAFHklvYllT3Lo4sOx10/+qNhLSDXRyY5WfqDxi0j9b96+aMP4piIbsrFJ73hIcrSNp2fS3EmtBuIXu57FGfOz1i3eil6jZ3s7Z53UrljbBf0rO7CjwuHY/Qq7/aDRCrzL+aiF7XRxxceRrXK2p3xqX8ZuZ70cjv6ZKQpS0SSnDgM81vJk1OAk3V6Y9wDXdEswQUu5ohqrdC8Id/cgmMnsxBm31CTNBkvDmiCfNINvOfnhE85+ZOEoX2ScA0KkJ1PuiaxHW5k5/9lIZueR2xVVFH+HDhwCmfyDITpr+WRvbbZD89lvdXdgpQhs0GDI683mG2fSQMNTDF7iO+b8qGYf2QZBtvX4YdIAc6DBlu2eNoief4o7N07EZ/pt9e8LI0GrJg6yHpza+7tCGVfB6fZ621z+2SVB8z6zCsPNCjDorS33XmIHzQVNHDC2pVr9BvlwDKx9otkLJqO2RhF4dj2j9QejCXfTfGLL2SOLsCU5L2gwZstv/EYPGcRxTTbLSOLUfM9eWj7zCJMSVyPtdcuwtuW7ILlf85gCpnRZfDOHNzw3cc+4VH5f2k9yeng/AeTm0mw+d3A8MzCIMzmgzNCeJM+an6aJ58k9xkLR1AeFmONnqlQ9YjKzyNHM5/Ar9FE9dvOBEp7AX7GkELqbtHrRDy69Ozsfe/oGix+pyNSXhnu4L4Xo+4wQ94ylWTlGxeVNxkI2Jvczm82qPMrGz3y0nB6J+69idrzIk97pjDISKTcFq8UQ6J+Z4wamoQG1kAhtima3VCHPqTRGM2+BvoYovq9h+RBDfT3wsnOHIbH7u+AOBoLMtHNW2IYfziYCRUyWUIckyPk54z+KJQNeuRWRjieukYD6uaUrK1r1NKf5KQkGDTItThDg8r2NGCxjJBI99qUdmrQed5n0FkkLMtI7R9o7B6gRdBot/EvePA7DLUemocflWuBGsCGsqmdjR1e+mP5zTlVgIYNKbwAnFfpKIBhVEYTbosVo3g7gHtjs69MVPhUlOdzMswBLMmml68ByQYSNqsTxzwy86WABoa1cC3r7RmdEPYCL6UjcgvU0qSTQSzHyApA+ubFWEGfU4b5xK2XcW09dBRhPiM/gw04H3IsnVSIpep02ym8UDD0CV7KYKjXTn1mWFZN7qCymvEq/rpDy/x8ATalsjzNOpdbSDod0QaxZfxERrdEQzJqcS4cLoozJFnaN8BTGiIb9URvCoONJZazedJcf/S+e4THnRR17r6V+GSVWY/OZ2fgi2lsxA9Ej0YunLTaD/2NbNRbPacMbdthOb0aNgZsRoKn7CmudrWRm+Gpm6GSlwdUqVlHL7+kenqYwmUrsxCiY8iA/PkoVn84HX94bgDuGno3Xtts3tt/6hS/Y/NQOQbRlLSipo5XHzgR2+IejOhDPXnqE+jQ/Wb0erArbhk8CPPoXvuH7kLX2DAagpdf2HDwP3VND1g3fUaDHc8Ayk7bO7wHckxiYis0swZFJUH9JrhXf2TqN+1sGmYBlsQVFQ6vcOLR7Fr9kTm6G1sDyMQkA2tWrlWyGeRrQJKBBOzBboclTYWRse5zLKK0TLwxzDvMJjyopVD3lYREShIfuV0EGYuewZB3foGUKZYBVjTU3hHbMEnVo+QUr6VlW74k4zWxTcnVX6+6W7w6Ed+pB9rb29jBNCwY2BsjH+iJm+xGFNWNTWSg3qkMty34bBb9efhOj5Fj0f5OHwPVpGkjX6ma6U18qD+6XIQ84urwwKcCTu3dhN384jtUsg9gy6LZSHl6GPrePRJPr8lGPXI+kOHzezvVowO/pHLE3pGYeLk0uRO/f7gF8PnDaNb0Foq7L5pe20+1r6ZjHOQplCpla+gQTqeunSzmYPVSwYPgekOX4Jh+w23NQqn9DXULEyHlj4+A8tk/0noCGySFk2/tIeBojv2oBr/ByOUlowGP7TZnZYIZLGoGaoKBY2oGqJM7vbwPIyGknoJnBpzizscng+siveSP07uk5J8pwDUPLMGKsUsxupun/HrN4HzqY5G134ujAPm+B88UJkt9yIEJfY6ohk5d2SgzZ8CqbluAFDZgmtX1uNMzplEyGZ3aUP7yXIiqTo+T4ZXnawEU5JmzT9XJ0DZdLh1s3DZsi97qy1Ks23kKkTz7FIToai7sXv4U7u5RB70mPIHX59NzqV/hh+PawyXGlVMFA575G0aQ3Zdw/kcVd1bd/hj9yvf4avwvceKij78WLgb7QCR+0NswjsxH56+T3bNQAfc4OOGzzyThnjn6RhGgweaH+mMwnA1ImxFZLLpj/hHDIUzbDEZZ4rN/qF1yCRy7TGFyOU35bslFyM0brkebU/6N5I6etA6a1bnEjwz2HVYXuU7U7oKBD3kMEzbGRvy6C+LJvb/b3TRKHA2bsqZJK4xWH5Zg7ZbQfhT0wMpkdKrQEO3ueRgTX52H7du248CZ6FKaVY9H3z++hifI1kk4852Ku/KNQ/HCwu1Y+MilOKpaKAqXfPxSXsg9QYMWtYTLHGhue6W/2mhuntSkPfnBRs5JzB8bhlrdhtFgeZ17oMrPlyw8GxOPZrea3ypV9DcgmWBGjgXPOKHDc+60mksFwzFxNTVn29IzO7lkkNlnQnxPImO8B+ZXCFEuXPiel2XxckCPoWEZjenFmc0phAISU3Fk6bt87csNfwFu6YnGEXb3o55la1RH8qje5JyghxuEI8JXG7giEM4v1k7kFHkWpMjw0rA6vdBrlNlrz3vnTXx9GqjhlXcXoitRvY50oRKVS/b+FZj5xDSsO94TyW9+j20buVwOqeWepUG+62d88GI/zPlxIhmkh1S92L54Cab/uhUqF7osTih1ag/G23qAuPGVzphzT0IIxo65qTqszhCsfXiRe4DJy3BKnpKbybBjzkpcrrrXPBgg7MaJahmUJV+1NO5iIMN0AIXJSxpDWZ4YMhTu9Fm8tMsyNPi6GAO0MIpbJ+zL13impjN6dGKD1nTfm7wSW46uwTLbsrXLirjOuP/FOjgRUxEzJ/8VW7xO37RhvQjO/Bwv95qK9eiByav3Iv0cG/UbMb8vSu+3kiaOwRs7X8BHx7JUvdiyai4mDWrpXu4mlB2Xp6HD6z3adHHvWQizTosiKtNA21w2ZL6RLtayoWLAp2nxxIw57nIh4a6nVPo8FKCAG6MeMEZUdqEapdW9TGhuPowJ5r4GPp2qyPD6mQAy4bQxnL76LciAWjUMb6UWoJr7RZ3Hr7n7Rft3mE3je3y8c1XrNQgNKtvfHXyfBf+OSCSXg1ruZx6lG8knhmms9NmPIb5SCI+2lmWZy/7ssNEYap6UjPTnQmHlXRxZUnqs5WtbD32AdTzr1KEKcs/Y3deoY6/V8keDBj9R8eg2nuvMYny+j+qMZciquvuJqru9xvdE8xjt7oDHyF2KTzYfRWQ1nd4ARrEzBcim9nPbvW9gAJ9ctvV5DJ44GxvJCKtARo367Zv8E1g/sxeq3/oC1rKOOLQT3/GjSXdhYLdWuIbjPbMTu/az46UnL/9HHFNxTcHAfp0w8NFuuOuBruj7+2fx+qdpcNXw+c2dq4kAS10Yc6mPtVymbIgf9LhKX6HQYHABDQZ5f8tFn5YURCYW1hI79zG7JUH9JrgHH1yex9qqJY5JarapsJkl/8VDgeBBZzL+67Unq2TgpV5z9m4r8hLC0NPuT3HrBC9fa7f3f9i96DPMvq2HeykZuw/CD9j3zx+x0asdtsWdD9Mfp30/QZaiemMaZnvf+ci9r6l4RCPpkakYeOEc8N0EtBvxLnbYJ3byM7Fl5iCEJb6ALdwXHNyJr9j9zsH49W2Nzf4xcw9+2HyoaN1QsclARhr9qfUibtdL1/ga9nQK3l+9B5mWQSaUCZ4R1GVFASIrd8R9POvBe0Ve0ntFiDUvhaljnHu9MgI9yZgIZOiXJPk0yPr28TD30b6cvk1/470Sek9Cljmb0uQuuqUHjD8teAnPH6bv6nc0yDh57wN8zzMlxLcpYSEvXbMTE0Am1rHJq88UoLE+wMCagTGxjqw2j012PIpYQZ9jfsas5tZR10TuYSz50zD3UqcLp8hN52nF6jX4/sxhzJs2DydJm8RYG/kd06ePIS4drVNi5JORYBq13kvXrEst6fM1OpTR5yCjqiE2OKom7kMRgsnSz9ihB/XytRUThqlla90auXCWf8/G7m6VJXUQbAR58jcIf7VWjOydhxE8C0l+x9xVG+eD7aakcCKTnjAPzphQDxO/NOs5vnnJnMk0vxUOpbOg6SC8MTMFd5Cxk/7xw+jUsR5uJOOhz0M348a2NdDrTytp1LAJ/96dhfCmbdGVjaLUJ9Dzrq7oeX9LtO74MDbFlc4byqrx7XHH/ffiWtRGwvlUtXSNrxXzp2DcmKbo9vq/EVfpMlWxl5y2GPUKvzlu53WMLx+Ry8uSOr8yqlSXy6ijeW37c3jT9cS9bfVbbsZ7gJaxSO/DqN0Mv2Tj5E37s8VcuhZEJtaRw9ZGfN5P4/dbHu5jifX3UPcbWZvqHeP1P264VFFG2DybEWbOoPktXaNyaEPlYB5QQH6mBs77lqkdkPz1KNvBCCWHaSD/02vpmnUFlGMR0u5EaHXCgdpdcM9D6zDknono3LOLRxbafcDdz/gtW2v7YAo6YzYG2cPdlKJm3Hj53KgQXk5wGAPZsO7oCcNqM0X6OfXafTFv63RKD/GPB9GqShg69GEDogfqRVRBuzGLgf1r8O99NAps8iuKk/h8JG6+oTv69umAsCo348uEGynO0qAleozujGuOAY0rHVZL1z5e9jHmvToRD9zRDPe8tUP7E8qCMu+F9ZDID/4BTve+GNteEXNvRD4+Geq7R+HSERE5BeFD1yHZtj/HTId5ShW/2c/JgZ75MAfErSc8j1c+XI+qVa1TwTzPrkvKN/fAhEDuafpv7wUlpzyWyXCSic/+mV5qWdVE9CQ/585WxtC/WSfTmffVBna1b2cE6nxPRW79WvuqH7E723aaGVk80f9diuvn2mVeD6NXecI/SylxG6EqT3R/xjDM/qYAlcjgc06fWWZPVPkOp9gIuILIiTqJJU+T/GzLDs1Ln5KmT//zPskusIwiIwpwYSd52WmWqQdy5779tLlBjZdKFi5L/+ZrX0LYq2sXNIkgN3Z3L2sj9LI1c28Rp4LqKOXJax+Se6kldZLkI/g+pALknquC+2edcRvZKoz3GlOdM5eSrTgb2nyWcZpk9Mtn8OHHezHvmTHo1SYGP/yLDYhUoE1/jHjmE/z74xV4/sYKKKjSFb+b+ToGNK2N9D1fYX9WEsa8uwmLnxnhOXHQh5LUGNvfvQ8Dnl2Drn9Lw86vzZMVj209hx/+NhGt6f6m//4PF66w+l6SuPfFzBrkHgzyfoZQ3t4XhZgAMzOxbncabt2xCKNs+3PMdNhOhSJ4gDZCD2I7TJitB9/6VC3bs5/dkaZOoSoOSibqtCy7TOynXJmnkJkn05n31aEBfGpY2ijUZ+Pr6G78i3/r4+u0gMtyfGXiHC/vLUnDqPqeYXdiAFkWl0LD00aYJ100+J7itDTQNBLNciBDZpbtxyW90Bvq1WDdkp++CjEMA6U1MdEaKrMRRmVhW8JoXnx6HcXod5KgReC0F153mRDqhCOm8Z6YOMJm0DPm8jXOr98MjVreuREpt9nkN2S2eaqhj+EYsGwpjEXc7m1lML3pRqULfp3oOTs1FKJbj8Wa07ux5q0nMbTbDcjYsZ2MiD1I6DYUT761BrtPf4NRLSnM6CRM2joLI5JaoPL5NBzIbofpqelYO3042vqks7A66XQ/0SHd0TZ/GUtHotm9c/Dg2izs2GbWCyMvCye/fVm16z3ffV8k41YoWcL4jGn9udRI32YON3jpVF5hx0DzDxX6/MI671mw7zXh5Ty8iZ4Hm4VtDPfzq8PnE9S8DCftzm/NM867UIn+nvX5AUPfdPimlX9Z/hSfiMabqm3PqjDZxiQ3Kx2B8sDu4Xlk5Njl5BMe4/SceRqbiSlr+hBJ4fAyIH5j/1EjLB/fEcdt/jgPlShfvnn1DZ9/AZ+NUQtTTvqLQ/pYVmcpz/yr9tZ9r2eUzV3gkZnGVy6OcgoxPL9nHZ8jtHs18n9SzWwsRm82aut79uTwj4j+9PYAMmjbKSPQyRhwlhEvDSTjmb57133TvSLdsOe/UFk6oZ8JVKd9ZWzhW2f8/AVqK27MPORSvhh3nSO3alHO+4oCEu5CbAyHRZfOJ+/NqUhhXbhgHvfMhMVQ+yAh5uWRgUT3q1I86teqyeh2p1PLI5C+sfLtyRf51yaRVxvX+Wcq0zNrpvHscm2MfnM7XulaHfmkSVmZHv/qKXQaMw0Y9SV+eqYrMm3ll9CawxaEi4QPR/h7M7x9scvphNDhfT91PsKvj/zDb08O/+hmhwlNvY9lFq4aeMaKZyFf+PI0JnX1/MBp5upJqHLHi2jx4gZs+UOS7ScyhNKkTA0doSzggRYvXXsVDWnwXtgpbFc3lqx4maL3bxOlfzpILT9UvxvjdwKaUN4Jq+RC1lfPotOoKeBtOg3b3I6GvCwzYwfW7TlKDiPw9ttvY1iDApyynSIpho5w8fCypelosv5SboIX/GG5+//ODBs5vCyLZz0uixPshFIne90kVLjlRfX5hm590CCWPmTswccbePnG/Vh24D30pbGWUDaIoXNVwoOtAv8ZKcEBltVhLHmal/CZLiZ66WILF9L5RD7hqiOypgvHNy7GO++9icXrzGOtE5rejm49xuDxBwaiQ/UCpNt+f4gRQ0cQrmR4+RrvAdJfFbwEUIzOq53MHcsx443ZWLZuu1ohEl27FTr3GYXHx/RFS88kj1AGiKEjCIJQSoihIwiCIAilR5kYOoIgCIIgCIIgCJcSeb0oCIIgCIIgCEK5QwwdQRAEQRAEQRDKHWLoCIIgCIIgCIJQ7hBDRxAEQRAEQRCEcoecuiZcccjJVYIgCIIgCEJhyIhREARBEARBEIRyhxg6giAIgiAIgiCUO8TQEYpHpAsxsS5ERHiqUFSUCzUquxCpvwuCIAiCIAhCWXF1Gzo0WGcSaHAeHPN+1YpXmbjIkGGqeVkuLkRXIfcjq/H2SyPRr28d1GoTTldTdHtoJJ5fsB7HSa5VS0hUkbpsKqn/BUEQhIvmaCre/8MY9O3YEk2aNKGrLXrcPQYpi7YgI1/7EQRBKAdcZSN3G2zkHJyHETRI773gcBBjh93X43XyFz1t/SU1dnhQHxN9mcyIsJGz8SUyYAbh7YOWseNCpQRg08wBuPH2OzDu73Ow7lQ1dEq6HZ3akHvqHKRM6IRrh/8Za3Ndlp1UbFgehxYMoDRMwVr6LsaOIAhuji7ASBqkj1yUoR0CsQUpPJifukV/v1ow8+0tn2zsmDUMYXVuxgOTZ+LjHflo1boVWjUBVi2biYn3tEPCjX/GjmztvVTIwIIRV2P5CIJQGly6UbtQJHhQnz4nDHHNZyK9zI0dij//Zyx573kkz12Ex5oDJ3OBqOrAjnfvw31Tl2I/kjDile+R9vUOfPLOaiyfvxfHvvoSybc1RrOBD6E7+T1/UYfruZB7Zj3+MQGY+cVE9CSBnNV3BEEQmAt79+pPZU/GopFoMmIBDdsvDzIWTcfshxfh7UHx2gU4sGgMWj3yKeJwHZ5ZuB2nj+/C8o+WY/mqLTCObMCrg2/AiOeHo2W0fqA02DQbyUjBxmfaagdBEISSQwydy4iIinWBWrGXRaHkZv8P+1fpLzl0RbqQs3MeJk34AOmojQGvvI+3R7ZC1fwCZOcUIDeXrJo6XfH7v+3FD0NqIP20tnIiXIip6EJ4uJmrSAon3mtWjIwqMuyYqnQvmu65XPydnj+2D1vVHUqP/isIgiAUzsE9PA9u4+gCPHXPB4jHCQxauAopg1oiLlzfY2onYfz8LXi7v8cwKg0y9u3RnwRBEEqeMhtT+y4Vs/ZixMeqP24sd88+Ec/A2CJQWL5LnaL0ALvQJVBea65CmJbgZXAEp9GKg/HKi886Lq8lanQv90wBdh04DPwiAtnZZDiQs/m8+Zzf0jodp8fdlIv6bovLWmrH6TI/e+4xgZbiRUZfh4bdgZRhr2NnPhkrFYD96+ZgBd+87ik80a8Jzh4uQJ7yrSFjJ4eMnvRMLTNKR/iJzZg3bSTuvCtM7eW5YchI/HHdCSTEm2mJjM7A/Cf43jDMO3gCqW/cjY6d+fsUMvoaoQ2WYvRHqTCinNMpCIJwOeBnWJQx9Zt2BmZNx4Kj5vc9q+ZiIfUsmW3+gqf6NzAdCyNjCxZMHYMe7XkfTxO07T4GMzba56z0srMmI7H8aAZSp49Eh9b8PQXuhWjn92C5PYxB4zDbFkZ8o6bA18mYvUk7CIIglCClP3rc+LIa8Nr3xXj2YoTj2Y0eA8Hjbu0TYf+H9cCYN8Cblwqrum9Y3vs6eKC/YZo5gA623yMygcJRe1M84b9uTSs4wWlSe33MNJpxmM9ZeYninfk+YcY9MQ+H6PFqbJToe71mkMOqYWit/fDz1v4gr31E7jg97mwwzG4epr7b4+J9RWxUfDMwTH22wvO6r2XngQyt7BoY8oaBzF3jUTsbyM89gW2bvzJv35aEWyOo/zK/OUOGiWvP3zH87l9i9Iw52B91Ozrd1AJZW+dg0vDemLj2PBJshhywBpNGtsJdr3+LuIY3otOotoiL7Ygnt+Yje3xHnDoXgsEpCMKlZVOKGqz67otRy7bIPcVnsGq6j3QPtj0DY8/lHJZtoKzZMtVnAB0InUbr4jRFBFvipvb6mGk04/A858YnTK8lavpeu2T6/M4QdNB+zOcD7T/x3zek4ubveu+RVzwqDjPv9jQGk0f8oLeRlvY2BtfmbxnYsW47/c1DvcHt0dI+kxOInxbg9oR2GJI8EweiW6FVy3j854v38XhSJ0zb4r2JZ++pNfj9zQm4+YnlSGhCfocnoQnfOL8FL3Zohn4Uxqqf66JV66bYv/h1PJzUkeSjw2ifTOlMQ3J786sgCEJJ4jvCvfR0GImZ3YEV+3/UkyWUhLyTWLd6qbqdkpqKsDBOls197FN4rKkLJ3N5kF4Po1dNxgoaAB/jay59nlAPYSk0YL/Io76UkfQuGUnDnqc415nhbz2Ehu91Qor2E5ilGN2NjBVYz+Xj5Q7A6XAysF4h44fCTJ6r00xhzgQbNFPwxfkCVOrwnOlGckH3udjmfr4o+XGhMsuVZFFrGP3VYSgjgSySiI7kZUYnMm5eRcMvzHvbXumv3HrPczqMgY2dAlzQs0v5efuwf7d5p1diY7gK6yhzgOjrH8S437yKOQt+xq6PV+OTeTuw4mWKE6lI+WgNDhpAmOmbOIr9Vcdi5Xc/46t//AtfPNMLmXqTjxg5gnCZ0H4UUm4D1u45qB2YDKxZuRZ7yZiY/aV92G264+HH9WCbB/cdkPz1KCyigS0PbtPmj8KcexJKbCM6G0lhN06kOBeZ4adtRJM3B+H3+n4gsvd+iIfqhGEQrOc8A282LDjMUfN1minMFCSTQaONDDVQ34j5D9Hnh+Zjo8/zRWFvcjuE1ZmHHut1XHMGw1pItnfvRAwi42Z6043mvfUp+CW7hbQvKAMHdpmfOjdvan4ojGv6YfrCWVi29TR2rF+O5R9vxP4PBtONHzDj3bXINH2ZZP+IXdUnYfO5DHPPzx86I46cd8wZh0nb6MOwD7F/z7d073P8fGA+hmA3Zj81GzvUw4IgCJeOi7MMikVtdOrKA+w1WEkD2EqRQO6+lfhkVX8kj3VyB5KTkpBHA+tNf2ODg42cieipQ0NXMhLI2OEB+8RvClAtRrsXA3PzOxtW62A8x5YBUxcD/ryOurUQ8HqOupZcF3L2zMObMygPZOQ82Ubf4D0uKsznsW4rwEmOjI5G/gH6cCAf0XpZW0bQKZNAeMvH20jge4vwWH3+7EKDe941jc5pK7GLDBP3UroSgYykE8BN94/H8KTqiIz6/+2dC3xV1Z3v/wEFqletfiY0tGj1BLC1g/MJQj9Y7CWpChRRwZwkWOqDEO+dored9nYKJzO907nTTw7MTDtzP9fW+QwBnCq1CcFHWx3w2hIcqNTQ5I7WtiOcI2OpySReH7X1Leeu136tvfbjnJPkJJvf98Mm56y99tpr/dd/Pf57/fc6RAVm2Fzw4QXy9POD9OJ7XgX83O1fok/PJHrj7ZO2kQMAmEhUU8NK7hK111lJGNpPe3YuoezWWwzheWq7Sr5kPrAlTZ3EjZwM2a+dMyOh0NchJvj6alDxDFDnpl5KZfspZ7/YXk3NO3qoI5VS34N4nWo81ymGuqkjk6eOvoLLcJFptrHS7C07zzrrqGvwIWUY+uHGlr25QE0zfWt3K+V37qH99orZaDKdLkm30XXzuckiOX+OMpKOD9Ow/CT5PdFffGMz1bndtZkZs383H9T+iO7MtND51sOx2c30ha+nKP94N/0sp8IAAGCMqIChQzRzQSNdY03y30901ov99PCyRvrMaif8jHOJhvv30MNscs63Ln7plUN0kLt23d5AK8+c4nSy/FHWpQ3CEOGrQe96XhopAm5tPLVfrNxww6pQwirCNRdcRPSm+sI4fYZVBv6ui+MuJg+5SvTUb4aoKo4bQQyEobTsIrqYGUovyyAjr4s3+08yw+MsquWu2mdOi1SEqaddSBfMlZ8fzj9HJ+P81gJLlMfL9T9M27713+mOW66kxr/eIc89MUQvMIPGWdHh7wvNoALf1AAAMGGpvmI5Lcy3O5P8EznqblxFG25eSR93hY8c3EdHUh20QhgIA7R3G/tz2wrHyLFYuEIYIt7VoBI4spfa845hVQy816mfI54AeeBl6GGGTfuiKpe7GD+40UZ07Hj0WkoxpFIfo7kBRo4J8X5LrGG8ms6/WH7q/bfiXv7/ba6X7vm7r9HG1ddR/ZfuoQ98kAU+fYJek6dtpp+pbdU2cowOPs5GotS/0tc+5pXfJ/7Hu/QH9DidCBuoAABgFKiIoUMfaKBV/EV37qbGvu4/+E2iT66iuXNX2eHvvvU75bYmDRs3fBOwycUauku5i+nHD5s/SMP6iFEOv35PegTG5L1YPw7HDJLTzqMLPqImEAeeoMeZQel5eKczZQq9r/BzumtjiuZdv4q++M1v0q4nfsyM2OdUBADApKSmgRrXO4bJwGOd1Lq2gapZ+Bo73HJbMxg2k45l1DVYkO5i2uHeunliU01z6vhTran0m+4j9Is4/f7rv6DOW+ronDkNdPOX/pLueugHdOBfXqIzZ6jzUZx9Ns2hAtEbs2n21Z+Sv9ejjmuv/SO6/Pp1NNtZLAIAgDGhMoaO231thK/UMENg8Vl0+mnn2OGPPvuQ7bbGXZ7cTFN/JzrvsMFk5oeUqxbD2TnOYfi1ybGC8dY7RPOXbqSr+JdffYP+9w9foP80y6s+VdOn0Gmny53fpjMr6Mnv3EyZR5+j+S3b6OG9/4+e58YddzMEAExi3O5rfKWmnpZfwSf8MjyfeYQGhvbTQy63tcmKXDFJxirzJSs30KfoLDr3qc/TN74fsBLlMoB+8U8b6bbv/F+67HN3U//xV+nNdwtUGPg8xf7poukzqeY/n0c0eDF96a4fyXd3PMe9dNM8FRcAAMaIChk6lvtaPz3/z/spu6yRrr5wCr36miu8/znbbe2N10/StDOX0BW3swvVOzwzZTJ8bPW4nJ12mghlsDT+g+gMYVxMIfUzLsFwl7cPXMTurVaaZqgLynlxhbuIiTTlFsmnuzZLsLahdragPkkn+SY050/lPz1DpzFjwW0Yic0bLBe3M9Xf8YTlbdr8Ntr8+cvZlyG6/8tp+uLuF2gay+y0adLAefPoHvrTlllU991/pzOnvkn/8bx84rto6Wfoyjnn0ZkszvP5fhFWFHyXOQDAhIG7ry3I/4qO9uylzqXLqUG5W/HwND1Lx3/6HB223dY4dbTiNvbH/Q6PhcHlLJ9/mo4W+97J7FpqYX/KdoFzw9Jsovsoc3eZaT57NMaGAWPMh5vpb7/5cdZ719D9Nyyhr/3Im6O3ct+nP5lfRRt6uA/0b+nX/8b/El3duJbqPnw2TWfjz6+fybGBIO6viV5C1/0XXqc/opv/oos7G9hwd7jve7apBgCAsaFiM8jTL1xJq5YxA2DTV+maKxuolhko7zDDwB1uua3xX8R/+22ihavvFe/wXHNpBz0ik2F96NflLmnL7qW2y6fQyy9bxhJL42/uo5+L91FeoF3/tUpu3xwEizdtzjraKIwpuROZQGzjHGfXNQPvnKTTP7qOtqjdzaq+zrd3lljbUMstqLlrWDXVfpqdeHQP7Tt+kv69++v01ReJzjnLMvDkZguCx1mZr/6s/E2bceMkvf0q0eI/fYh2fYYbO0/Q32/8EJ274hN07for6fprZ9EFq9K046khOu2Zn1O+agbN+5jcEmHHxj+kK266kj7+UVYHP3yVitqMyLWVNt8afNTf/QUAFE9NAzWtP0gtTe1Uv7JBPG8SqPAbVm/2ua3V3ZqleuqktHtL5CNZsaNZan0XtamOgRtLjdy4aLd2E5NbNC/IRCwl1DTTpmxKbGxgb1kttmpOC0OqJKwX/lmavq2ga91bUFfT3HnMQNv5oNgYYKQnq7bUVqtcO1to82jlqWSmU93nO2nvVy6lV+go/eVVM6l24XK6bvV1dN2SS2jGnOvpf/2Sdbd9v2ASP5suWcRrbxbtuGoGLWdx+O/gXLDt1/TJKu/W0mGcn/4z+vvF7MOutXTBH1xs34u7w11/+Zdpn9vWsbbwjrWLHAAAxKNihk7VlHPVy+1raNWCGnrnTT6JZ8dp50r3NYZ0W1OTe/6S+ux1bCLNt2Hmxo56qZ8ZOdds/Q29/Q/r6Nzfq1/ov5jF4y5S9m/SfIievznabert105Sw58X6GFmWIhtmvm1Vz9HG596T4TRIWE1FcU7L52kD91yv70znLUZwTXcXe//vEf/7Zw+eoXvzmYbcnKb6vnM0Nv6vUNUxYrzyS+/JnZHszc0+M5F9LTajvrh31nLPifpDTZI0S/fKMrR4h1mvFA+7jUn6fcvV9Oqjp/Q0/feS5nVn6J5rz9BB/m7N6+welv9V3TXvb+hwx3XUPUrRB9ZfzftunUlXUDP0ZGjg1S97h76552P0hc/437bNuLOYlWM/3AoY9lFLC0AQOWRE/tUqlW5rVnIiX0qlfK7rTGjYTvfmnkpN3bUi+ktndS6e9izjTKP19PXIX5EUv4mzWLKbcyJ3dl03qftpla3OUf9zNjp3bRYpr8kR3fkZFgYejpu+O/RiHtvS8s02ZHeVk/ZQzlqm+1Mybkh15r6KWWW1NLiTZ32KhC/vpQ86XCZmkilQt+W9DL1fFq+dR8N93VRxx9fS9VvHaNnnn6Gnvnt2XTtH3dQV98w7du6XNTF+Wv/jvZ+9RP0QXbfY7lhOmtllo4+0kN/9oWPyrRcBOWNptfRFw4O00/+8U+o8ZKp8l5vnU+fyz5Ez7z6T7TcrTqza5khzJg319EFAAAok6oCQ30eN4aflpNb7r71NjNOuIvWyy4bgv+ezTvM6OBuXf4tlvmPY7L571vOBJm/E+J714X/EKdri2KRFrfr+O/WsO98lUisFjDDSL/eypcFj/82C+PDifE3XQLS8aDlh8PL/TuWJ2GccVQ6Fu9n95T385b5fdOn0Lv8oRoLO3ea9Z6PjMM9995Vv33jxiqTXXYFD5/6rvmaME5n5ZnKbssNtJMnT9KUKVNoBssLyxq9bJdTvqvzFvvOz58xg+i9N9nB8vn2G1ZenLKZ65vDEmUGES83/12fmfP5dwAAAAAAAIKpqKEDQCnA0AEAAAAAAFFgxggAAAAAAABIHDB0AAAAAAAAAImjIq5rAAAAAAAAADCWYEUHAAAAAAAAkDhg6AAAAAAAAAASBwwdAAAAAAAAQOKAoQMAAAAAAABIHDB0AAAAAAAAAIkDhg4AAAAAAAAgccDQAQAAAAAAACQOGDoAAAAAAACAxAFDBwAAAAAAAJA4YOgAAAAAAAAAEgcMHQAAAAAAAEDiqKihM9KzgWpra13HBuoeUicnLSPU3Tp+ZRnYImWXPaICJiGyDFkaUN+9jK88Jz4DlLXbi0lm6vwWszQnBUPdtIGVYUPPiAoAEwulY63drHWeghzJyvY3jm1s3Pv5CpTx1GWijHH+sUPO0TD2BqLGqlO2L5wkVMzQ4R33zKYd1NaVo1yOHz3URr2UWeJuVLIDmFwTnhOUO8D/9lLuhAgYQ0bo6LPy07HjSW1m4ynPiQ4fiNLUyVpKj2gzGapTZ5LGG/m8+lQME6G/mIx9FjAiJvv+hwkjx4/JD88eHfXJjZhY+iZN49/Pj2UZJzPm+olLUN8wsce4fP4N9Qn4OJFjtcY4kGO1CCYqlTF02ACyIJOnjr4CZRaqMDZly4jJ23ZqrlFBkxKrHDlX2caKamreIe+1PV2twpLGeMpzgnNkL7UzA6CtK7kGDgATner0dtEf5XY0sx54PBj/fn78y3gqgzFu0rIwI9tJgh86JoGKGDryadFnqXa2/B6M9aQDACBZF6PdnKpMhP4CfVZSsFc1xpETx8TzYTBBKa9+0DcAUAkqYuhUXziH/X8vZdqDl4ClT3Ka2tnnHzTNlP7CuhuB5UdsHfqSsu16YPnA8sNyjXOH+a8V9+e+qpYPpjuOO4wd+lK0750TlwuE5WstD4NbhO+9Jesw+8kafWi1/JnuI1Ey8Plhm97zUGH2YchPVH0ItHTYPc6ZHu6mVI48fUTlMYbsvPc0uSJousWOSN963339LpxVi9opldpFLbOqZByjfAOIKldoW7HOu693Dk/ZYumAF6/Ob6CeF6fRdHXOTZjc5bmw/iKG/pZZ99F5OPWIaivifEn9rNRTEebWOavP0vTQ3/5C9EHdd2bTo+xLO6VVHPv+6rz+3UnLdbj7UF88l26o/C7IsM87W2iximPl29jPc3ztUtc3l5xC5amhl5ETln8TMeLr+uEdcxgiDVlud1xLLt7rtfSFbGRYWDwp26C8qfCI+uH4xm5XWWRawX2D5142/nHEV2cxyygotv58qDZj7NNVXkP6e2/+XGWxdNh3rdVGVT6LKatBdt4+oIh2ESo3lUdV15YO+Psb07moPIJRo1ARhgtd61MFfvtUKsWO1kLXoDrlZrCrsI7Fad09rAIc+rPy+o4+FaDSTKU6Cv0qpNDXoe7hpC+vu6nQyuLa6VrxsvaVdvqp9V0sZRFS6OB5Xd9aaKZVWnrufMgwcz5c92Rla/Kkz0qwu1VLS95TT9+NvOZGR34s3UYtXZEfV9kclMx851RZ7XD13VUmfl/9Ht58GuqD5a3VkA7Rmd54GqXKU8eSr6NPKo/WNSxdoY8h5faVU5TJpb9WGd35UPk16bEgRP889a7iBemCRK87Roxy2Xlg4b58+vLvtF933Fg6oGFd46Qj82a6n7sd++uSwWRv7C98dWLlv7GIdmOQGbtmDb/GLeugPCQKJYuQthZXXlb9O2lZaUf1s44O2umpOmxl1zr3Ndd1pD4wRP2bdJddfyO/T1gd6201ThtU+TDJ1dfPMwL7M8946pKT615+eWroZVSyDW4fGlZ/otV1VL3o9+Bh6+gMT15ludeJMdxd977+39SnWfdwyYKnZ6pnf/0H14+Mm/LUt15+WRaz3vjvZdAPU5oBZTTJIlr/VJgrfZ/eqfv59CYoXGC4F8ujpy9Q9eKWjU8mAWXV65OHRY/BMduFlb4rLZEvXY729yAd0cJj5RGMFhUydCRW58APqXCawcOUwTigsPC0WxltpNLpnY03nr8xc/RG5WtknJjp+a41Xmd1Is12mb0NSCGuXeuViwtzR7QuML4X1fj0e+plYvLmHadf3oqY9WGUKSMo3KJUeXpgedQ70lh47hUkLweRV18nJ/NmCrdkZEozbrm9BKfnQU9LfTfJx5h3Jk8+aNvXx22TbpRemdp3tLFgGFDYdZETUAs9rih/cLsRMjDpKLvOE15MHiYtSseM+iyJKy9j29d1U6DrtXlCIfsAr0EQS58M9RbYL0XVMTvPJ3GROuArp7lMHF+52D3M/ZmeRlCaEf2EXsaI9uElug+S5TGMa+y+a933Nco6rO5d/b9Rjxgq3EozSFf99R9cPyZ81xvLItHjBuqeXqaAMvpkYcJ3rb/efHpnxdFkIPIbIJcg+fL7u8PlvZThK/J2gzf/AWW1wi25BuVF5MMOj9kuRNpheh8kM023Wd03u/IeL49gtKjo9tJ1m+ULeLncYWJKR/l8F7XMSvuX5zVGDu6jHqqm9kXKhcc++I5Uk2cHMunC51TB7Dn1lM9kPeUfeKyTUqlLaW7cDRpm11Jr6olYcoxNzVyqS6WEvI1LsrHqY4D2bmN/blsxZi/t6fL0cCJHe+hGWn5Fka/WMnmySZKimubOI1ZHC/wuFgJZxpdcrg3WsXhTr3lnFmuDgav8Uqm7qo21iXbaOxbL2Z5yOcy50C8fLtc8K1OnKx+8znfRGvt9oVLaJL9mN8uFqU5Oqr/ByLooGabT85lO24S2mxHa/0ivqAvLjck+WkTp6OhotbVEMPHkFalPuj6UzAh1t2foX9d30ZaojQMC2mAceNvZY2w71dSwko0jO/fQ/lAZz6bapepjHIoZV4aO0lMBfZpE6kdq/Rpq0Me1mgZaw+YCvY/sZ7FKYar6G8LCFcQmp9R7bGz3yeLjeWmEjJUq752PmcYfh9Cx0KIk/aujtq1cvx5w9GuomzoyrL43mjauiN8XVKe3sHngALV85Wb67KJ2at39D/E2pvLUZwljsAetXRSj94rq9B0sP0/SvoOOBg/cnaEjqQ5aITabKDePoFgqaug4yF1lhne3sM97Ym6xuIyYxawMJe8xWXcg4zvd9Gd/RpkljuKnt9VT9lARO3rUNNN2YTgOOOnEeE8iHLkrTH+WdbAtVt50v9iJXR/xXyz2+s1WzWphE3oHbpwX+jqItqXtOLrxd1623yiHyu7MEl6uUBZmWNts9RgxvEPu6LtfG4hK0YFok8bG8uVWB9+5sRi8ft1pYWDaxGg3KTZ5PWwo2+TfKXJsmOjyCtWHEhnYspgyB9qox7hbWRlt0EhY24kx4S+GYsaVEzn6nvp4SqG9y8F/PmNiMTr6Z03kM3er91KY0d1vT+LNxOsL2DxwYxvRPfewfN1U/ENJF6M2Bpc0n6qjFbcR9W7qVHMkadjUb23z3HtizhOSyQQxdCTyKUQ0Ml4RE6TJAuso79xm/UaKdZQyKXC2I80dytIi/uSgbGNHTvJlnvhvHnVSWhk7k6c+wtVdviyoJipK/oXBLrpRnbext5TMUQ/r0JyVriKfko4TscsVyAB1biKfEePeCrV0HYjTBckXPvlmDPVbD9v354Z3LJSBJB8aWPnvEU8BvQS1mzJXj045Jri8YutDcfB2tiBTZ3wwVX4bNBHWdt5Tf0eTsRlXJj/SgOCGQ+9tPUqf+IPbVnW+8oyu/smJPG3by3pmPjb0+ibxDsX0Bayfb+mkVLaDOuie0M2qghmLMbh4va+7NUsLlTfGSM+d1J6/zGW4Tcx5QpKpjKEzxJqHYRlQPnVv9Gyfy50vfcyupSa6z36ikBT4k5Ed+adH162jppk2RU0Ii/5ROLl8bROrPlTjFp3j+FN9xXKWx12e5WQvcomdxEAV/4kK79D8rm1b47sNhrgiSLfF8Cdl0ZRWLg/CvW5H+EprCW1SGkfmOvF0TOL+lwtDK2p10NRfcDnS0iwdLuahgdZuhFspG+Dc7ntBGPusU4xi5DXelKQPUQx10+eadlDr7rsMaY5CG9QI7s8st7BGv1vYaBI2rkS6V1nudS73J4uh/fTAzjzVr2xgscYIg7twvpxxl+W5m+W5o69Auc3htRuvb3AbEhohrs7BjL7+8XHvMjaRv7P1TvED1neE9Mtx+4KBLerHsDdnKNPXIa7ZrO+AZsIjkxLG4GKIM5/i1DRQ4/oUtf/4AfrJgzuY8ZbxrFyNaR6BjwoYOsxqX5KmBXyLXNd7DvyJA1/q9QwUNXPpUu57Kfx1R6h7i7KimbJ9a3er710JyxXB9B7JZEAuCf/U47pmHbHLJJ5WercF5i4+5oHDGnBcHYpYftfcONSSvJ0H9v12vixv+RDHqg+5LC18de2nIfJJWLEuSCXB8phhHdSOppmu7SPVUr7rqb2n8+GyXJJh03cLFd8uI/venqEnXMZI3Wb+ZLjP69Or5Gde8lY+zwbZiXoLfFIWlzjlimBhG/F36By3ReewZVlKm1Tp8jqxz6u8eVwqhBG1y2VEBehNQH/hG2hNOh7RbqT/uP6emrb9KSeozzrFiC2vChBLHxginnoqy/XBqMMCPqZlaCDbH2CIx22DKt7OB4UBMNLjfV/TQ2B/xp/aU8D7EmUQ0T68BPdpVt1b7k96P5me1UJPsv40bOJcHO9nOni9J99im/71XdSm+mxuNDbyhzT2CkJA/xJUP6zNX8YNu287bZ2X1ee6VkTfwA2JepfXhMCQ93iMwhigY+nfTtc8IIBYfYHSJ/vHsBdmxIr9jqbbnTwLouuz+DE4BC6n2HrvRs53aNMNtJoNZrphOqp5BNGoTQnGHbG7BN+twnX4dtNg6PE8ccSuHe405K5tw4Nqzwp13puueUcYsQtG1K4nMdPzXWu8jiHCrZ3m1C4gWr7s9E27ljCkfJzd6vr7+tX9ncO0y4sbb3x5HxGm8jLM09Try5dPRlR9cLQ4QiYizFw+TmnyNOPTO88OJ5as1SHKKMPEvQaZHPrUtpD2Ycq3qkt3PJ4Wk0NgTQzq6RrKEVRuDyb9jigXJyRtIX/fTjCyjPqWvFY6zmHQAQ+arMR9ZJhbb731ptLkYVq+zP1F9D3iths9jpXWsEsG5jwkCU2ftMNd3ih5+do2x6iLul6rOjXWv9Z2VNty6jOezvnKad1LT8+n887hpBejDXL0fkCV11guju/een9klpMd7uknXGhlLGVcic4bS1fXDz0/vrrjxKx7dn8+xfmb7+8xytSDlldRJyJMy3NA/cS9PqhvMLYDq5yu+D6Zq/t62wpDhLv1JY7+qTgu+QTqHYfdgyhtPmcgqC/4ZaeSia9erDyr+//sr+LXp0F2Ip49BsdrF9F675eZgzrnu4dFVB7BaFHF/xMWD6gszJq/YdaDtHbwuz7XB77atXjTHOrBS2pg3OFP3tJEXd53cgTiadoR6hrcM3ouQAAAMBqop/1sIu/vu0CZqNXDeT2R7nqjBuoTlEhl3tEBfmrm0iLhtuZ167Bc+sp3YQKgFOS7Ve2LtO011aCTyv45jBwAADiVGNpPe3YW+64QAJUBhs6EgW/hfJiyS7lfLvddlcditdvVZN0yG0x25I4z/VnX9pr8aOkUT9bG7WkeAAAUSSpV3k56wIR8J+1I0e8KlQ/qE5QCXNcAAAAAAAAAiQMrOgAAAAAAAIDEAUMHAAAAAAAAkDhg6AAAAAAAAAASBwwdAAAAAAAAQOKAoQMAAAAAAABIHDB0AAAAAAAAAIkDhg4AAAAAAAAgccDQAQAAAAAAACQOGDoAAAAAAACAxAFDBwAAAAAAAJA4JpehcyRLtbW1lD2ivp/ijPRsEPLgx4aeERUKwhjYIuU14XRoqJs28Lps7SbUJJjUqH66dsuACqgwZeRnYvQXA5SdIPKU8siyHI0RSR7j45ZNjQWTfkwfo3KMuQ6CxDHpVnTy+bz6dGrDjZyZTTuofuthyuVytD1drc6AYEbo6LPy07HjE2wQOZGjXv73QI5OiAAAJicjx4/JD88enRBGuzk/I9TdGjUJm8D9RYKZ0GO8MFZKn2THLdsbCZnnTIZyiAfGlXjAWKYugfjAdW1SMkL7H+ml1Pou2gIDpwiqqXlHbmIahgszIl+5XIbqVBAAk5Hq9HapyzuaWYurPKXnZwL3FwAAAGIBQ2cyM2/uhJhIAADA5OIE5Q6ojwDExF4dBInhxDHhSzHuQJfGj/E3dJSfqu4yYL1vovuvyvAN1D3Evkx5T4RVvc/xnZaHaflPuiY4cfS0Xa4LKk/icPtBW+9N2Ef4MqPIk7he+VRbh8m32n1PfuhLp/ayprscTA6P8vDF1LKTxcksUOHesnllww79/qJcUqbuuDKNCLlo+fb7G2tlt+rOxpW+Jl+jG0mUnDzykYc/Tw4efbIosp4tXbUPTb5F6YGN2Q9fr0uvjMJkLc/5ZBrkNx0pZwAcQtuAQceKahMx2mN4u9DQ8iOvTVM7+/yDppkqDXOb9/cXMfov1ZaMeTKc08sS3k9Y/Z0pv4ZzMWQZ1Z9F4++DjWWPHU/H0Zmwvt1O35d/f99alD5ylBxnNj3KvrRTWsX35D+GrAUzdJnrY2QAMdIvql0wwuNLeYqwIF13oZep58VpNF2d07Hi6vUp8+OXhwzXyxtdd6G6rdriggz7vLOFFqs4Rh0T5Zf5ilN3ulw9942jS2B0KYw7w4Wu9alCKtuvvnNkGM+OKdwO6+tgcWpEvNbdwzJssKvQxK9b38ViK1hYa4pd5w4T17quc98z1VFw35UzvLtVi18o9GdZmqnWQtegCtDg52V6ThwrHXe5rHgdfSrAKqc7Hyq/KVYOdx4kKr67fAKrTI1OHpksGnk6mnzW0RmFM7R8SVxysc6pNFrXt7ryaL6XV+6GOO70XeX1y4TF9NWBvNZOP1Y9e5Fp3hgqH1HPPrlIpA6knHxa9WSoX5MeBOWLXVXo4GUJ0xNRXitNFd8lQ34PpxzyvO9+LI0btXz4Za/kbGgXAPh1WeqaW0+DdCyyTQS0J0cX/XrP77dGu8aDIT88bJ0eZsDXX6i2IcsS3H958+zgDTf0jyxfvv7aKrNVPhZnrSnvWrhJvvL+YXWg1aWGv1yG+jDUYex4Kqy0vkjF9emBJj+GVV9RY7VOUL3yfPNxwbk2qLza/MUUz6CvcerSKpO7HTrjhY4l1zBdiKfrHCtML5c3zI087z0XdI03rrjX+811575Oyid8rLbl4GlvBpgs+ZzJe72h7myZRbVpK38GXQKjTgUMHamUesNuppsK2a23GMJdDcrXCUqkkjd7GrxJccV97XCroZsUzdQIOfIaf7gkSHFFw6QWmT9WprShDNY99bKa72VunFIOa50GZsHu6RkY2Xc+yJs79LC03QM+Q6UTJA8Bi+PttM3pW+W388SuE8ZVSNrx6tmLrxxCzuv8MisCvd7NehBUbgut/FZ8Yx0xmHy4ge/XI4sAHdbrg32PpY8AKILanY2vzcdtE3ob8CPatqnPZu3YGM4x5McYZsDf78Xsv4xjlbdNyrRj9Nc+uZjz4JWN914O8lorPLIuNeL1dQyt/HHjma7zPigLI6jP9OtVUH7k/dRYbSCwHCYiymaj66JPN+PUZVDZi0HXK/27hSZPll8+Fvnyx8LD5gdClu60hXyyhY6/1owCEa7N73x1EJRXL/5r413nrxOFVqfx23RQOcBYUJF3dKqvWE4L8+2011oiPJGj7sZVtOHmlfRxV/jIwX10JNVBKxbK70FUXziH/W8VZYD2biN6ybUUaR2LN/X6d7VaWkuz1UebI3upPf863W+7NVjHYsocIOo9Vty+WHVXtbH/u+jZQaJX/uUB6qFqal9UpaWdpk4WS9/dZ86Fcd/CsTYoWEMNNSrIoqaB1qxPUe8j+1ksyUl21M/xlbxoeDqh1Myl+amU+hLGbKpdqj5ymE7soRtp+RVB5S+ynoOYXUutqSeoZVY6nvuAgdlz6tWnMKpp7jz1MRYyfp67J5rcKZhc65hcuR6Fu3OEw9tYMfoIANf3PG93Zbs3am1i6Cg9lc9T21VB23HIPi7PxgjL3cM+WoS20tES23D5aP3XwjZiEyjqfMxpuyM9d7Jx5TLVpxXXX3uppuaNbawO9tB+u7wD1Mn7vdtWyM1MYo5h5dWl7IPte7pZuILYZFiVP248F8q9a0GmjroGe6jZLSPdzTau61cMrLE6NxpbX7KxhU30o1FjZOC8IlZdRowXsYg7Rnl1nY8hu1lJTWN12PyAy9qtw+Kdlf+5ijINHZ7wgcc6WTtp9LcTD/HyHm+sLgJWx8wAUpTTpsFYUpnNCFilN7oGAa7IrWsbqFopgwyXSmPsHGNwXrZf7WKlH3F3tRqir/QVDNezY3MpOWJUsX9VvOkvY523Oe0k7O7j9U9Ns066+C0m476oV3Y91zTT9txhNikZoMwSleeoQV/zV+bbfI8FdZtzVOjrINqWtu/lGDV1lGHl7M+y9tJi5SXAJzySZOsjGF34LmaFwS6qP5CxHzKMin/5iRx9T30MI7W+iw4bdDWX2+6dEFeUampYyYyITFZNwtUkKJsZnTwKA+EIZe5WLV5MhhdS9lZ3rxc9ho1ZXZZFDbXPrxL9auvuu/zysneotI6JUu/ed5CqZrXQLnUmHM1INhJdl+HjRQCa0bggU+p20JGPPP0oHd53kOubbB8dn/5DLVwayfUr2fxQXFQk4zBW8yUdMLGp0K5rchCgbXuZGnNFrldPA6zB4REaGNpPD+0Me7oXRJxOIwJmpa9VH0eTqe8SnVP7MfaphE5hMqA6zTSrz+whqyPuEU/sSiNMPUehnm2cbWRzh7K0KPAJpxzI+ADWe1uPPdAM725V58cA16Decxv5VnD44CbP91AbdVK6SGNHroYmVB/B2CEeEEjdO7y1nnY0zRyHCXLcJ84Tg+r0Hazv+xntOfRb1jd2UktJ41kQddTG5C7HUNYvfVt76l3MGFaRugxjiDqeLoh+leelnBXr8UK+oM5XWNqoR8mSG5DO0/4wInYALKYuI8YLB/kif9Widvu3+PjBH5yVRilTyTpawfK4o6eXRth8bx+TnfTescIP0Igy4IM9O4KowFgNJiwVMnTYIHDFclqQ/xUd7dlLnUuX2x00D0/Ts3T8p8/R4Rhua36sJdyt6klaCdTMpUv5cvq3R2fnKbH0apVl1keoie5znsSNGspI3PmAy51BwTqRB9ggW/JTkZjwctLSLB0ehSdsXA+aaJd6qmNiFOrZBBv0NwV19kyO3UyOHfzJWqmremVQd2s2xBVCTXw0TO4QnkbPBtGx0UdwqiAn9KVOkFwEuTG5sFytOkdh8jv2T2LlhK37Adb//rhdrES12eNZ+f21HEPbaW/PfvohN6I2un4nqMQxrLi6lOWTxpaGmKBahl3ceC7e5HnZLibeRbvnlvFDtZ6xOjaW9wmfUJfwO2hBMrAosS5Dxwtxz8vFSn65q/byYZl5rI6aYApXwa48HTz8EDNIHO8dGZ6jQy/8MobbmoGKjNWVn4MBMxUzdLj7WtP6g9TS1O6tfBV+w+rNJbut1W3mqwh93vcurCXMWL7IdZTp4v6j3if71raCYU+7hP+46xruxsWXg+u3tsmysIn0t3a3+nxpLXevcp5eyUHqSV+507Na6EnWed8xxm5IvkmIkHlprmtcThk2yHmfLirXACXf8uuZIVahXD7e7LuoL1OHxAacy7QBh9fb2LiuqbLaOsK+t2foCWsQVuW09YV9v53nw24zcnLB9cyOw8u6JON1p4iljyovZeonSAZCNzx9HG/jdSU8ddWRxrpZF+VKZXV6i3j3xTv5tbaZLWI1U00epc880+8tMfuLIuGTzRt3raYbNvndb8rur1nbbeeGQFMLHfJNzuONYeXWJS9fvb6SzPoZvlLgNuzixtPhK9bS2InzDqU10WyhzdaYETIGRY7VBsQYZ71HzPIvddDw0E31tfepr27aF63yxIuSQby6jBgvdMQDrl2uB1zy+pJc19T7aJ7VN1X+SNc98XDjH+mGNd/1GnoqfM3195RmHMQeq1Xd7XxQGCcjPZaraWkU06bNuoSxdkxQmxJUBLnrhH/7Q7l7jGHHpz65haM5XE9H7abBdwexDr5LyOCw2l0jxm4bg2r7YtfB7z3M0jDBy0P0t4UulX/3NT5UWZxD5t9OO6isgvC8S7m6Dn0nFlUu824o5rRlnWgy9qWjyVykIcN8cXx5V+FaXi1d8KbpRrsnPzz17EUvR39fv09eZrkotHoT9SPCnN1TZHr+3VREeECdsbPaTjYsX326/jlpDvN867LR61mXjbE+FBH6KMuktzFw6sH1Uumqpis2hv6lqDbh08WA69xxlG4Pm/QzoL/T+xZTX+vv94rrv+xwQxksfGXxpeHfNcxGySqwzwodw2LUpYa5HrV+hh3m/MSIp8rjrQvnusByuvDKU+ZVhLnkx7/HHqs9aPKy9UALF/eSYXaaomxcvqa4LoLG57C6jBgvTHj1X9a7CLPLpOQeS9e1ulXtkYeF15l1XVAb9+ujWQdVuDuvWj8i6kGEadfqcjW1s4g60fVG5jEiTaUfdhyV96Byg9Kp4v8pmweUCX9ikN7GfXRLWL4GAAAAwJiDsRqAU4fKua4BAAAAAAAAwBgBQwcAAAAAAACQOOC6BgAAAAAAAEgcWNEBAAAAAAAAJA4YOgAAAAAAAIDEAUMHAAAAAAAAkDhg6AAAAAAAAAASBwwdAAAAAAAAQOKAoQMAAAAAAABIHDB0AAAAAAAAAIkDhg4AAAAAAAAgccDQAQAAAAAAACQOGDoAAAAAAACAxAFDBwAAAAAAAJA4YOgAAAAAAAAAEgcMHQAAAAAAAEDigKEDAAAAAAAASBwwdAAAAAAAAACJA4YOAAAAAAAAIHHA0AEAAAAAAAAkDhg6AAAAAAAAgMQBQwcAAAAAAACQOGDoAAAAAAAAABIHDB0AAAAAAABA4oChAwAAAAAAAEgcMHQAAAAAAAAAiQOGDgAAAAAAACBxwNABAAAAAAAAJA4YOgAAAAAAAIDEAUMHAAAAAAAAkDhg6AAAAAAAAAASBwwdAAAAAAAAQOKAoQMAAAAAAABIGET/H0DT4EJwZRkGAAAAAElFTkSuQmCC)"
      ],
      "metadata": {
        "id": "OzBCLpWJa8MV"
      }
    },
    {
      "cell_type": "code",
      "source": [
        "# Stemming and Lemmatisation\n",
        "from nltk import WordNetLemmatizer, PorterStemmer\n",
        "nltk.download(\"wordnet\")\n",
        "nltk.download(\"omw-1.4\")\n"
      ],
      "metadata": {
        "colab": {
          "base_uri": "https://localhost:8080/"
        },
        "id": "susBY141Y90D",
        "outputId": "1c1bf099-8955-474d-c923-88aebf44a545"
      },
      "execution_count": 18,
      "outputs": [
        {
          "output_type": "stream",
          "name": "stderr",
          "text": [
            "[nltk_data] Downloading package wordnet to /root/nltk_data...\n",
            "[nltk_data] Downloading package omw-1.4 to /root/nltk_data...\n"
          ]
        },
        {
          "output_type": "execute_result",
          "data": {
            "text/plain": [
              "True"
            ]
          },
          "metadata": {},
          "execution_count": 18
        }
      ]
    },
    {
      "cell_type": "code",
      "source": [
        "stem = PorterStemmer()\n",
        "lam = WordNetLemmatizer()"
      ],
      "metadata": {
        "id": "IGxwdbVGbVI4"
      },
      "execution_count": 19,
      "outputs": []
    },
    {
      "cell_type": "code",
      "source": [
        "print(lam.lemmatize(\"change\"))\n",
        "print(lam.lemmatize(\"changes\"))\n",
        "print(lam.lemmatize(\"changed\"))\n",
        "print(lam.lemmatize(\"changer\"))\n",
        "print(lam.lemmatize(\"changee\"))"
      ],
      "metadata": {
        "colab": {
          "base_uri": "https://localhost:8080/"
        },
        "id": "xHAcpMbmbdbe",
        "outputId": "dcb6552c-8200-4e12-92d4-d7706c1d005a"
      },
      "execution_count": 20,
      "outputs": [
        {
          "output_type": "stream",
          "name": "stdout",
          "text": [
            "change\n",
            "change\n",
            "changed\n",
            "changer\n",
            "changee\n"
          ]
        }
      ]
    },
    {
      "cell_type": "code",
      "source": [
        "print(stem.stem(\"change\"))\n",
        "print(stem.stem(\"changes\"))\n",
        "print(stem.stem(\"changed\"))\n",
        "print(stem.stem(\"changer\"))\n",
        "print(stem.stem(\"changee\"))"
      ],
      "metadata": {
        "colab": {
          "base_uri": "https://localhost:8080/"
        },
        "id": "It54YFL60eWo",
        "outputId": "f7cd7a16-ae65-4466-adc8-076bd2b16374"
      },
      "execution_count": 21,
      "outputs": [
        {
          "output_type": "stream",
          "name": "stdout",
          "text": [
            "chang\n",
            "chang\n",
            "chang\n",
            "changer\n",
            "change\n"
          ]
        }
      ]
    },
    {
      "cell_type": "markdown",
      "source": [
        "StopWords Removal "
      ],
      "metadata": {
        "id": "3NBo9qXd1AzP"
      }
    },
    {
      "cell_type": "markdown",
      "source": [
        "Stop Words: A stop word is a commonly used word (such as “the”, “a”, “an”, “in”) that a search engine has been programmed to ignore, both when indexing entries for searching and when retrieving them as the result of a search query. \n",
        "We would not want these words to take up space in our database, or taking up valuable processing time. For this, we can remove them easily, by storing a list of words that you consider to stop words."
      ],
      "metadata": {
        "id": "_S8HuFps2NKs"
      }
    },
    {
      "cell_type": "code",
      "source": [
        "import nltk\n",
        "from nltk.corpus import stopwords\n",
        "from nltk.tokenize import word_tokenize\n",
        "\n",
        "nltk.download('stopwords')"
      ],
      "metadata": {
        "colab": {
          "base_uri": "https://localhost:8080/"
        },
        "id": "Ief_T4Lf0ncw",
        "outputId": "9ab7f1cb-fcbb-49e0-9a94-2fe7fe35edd8"
      },
      "execution_count": 23,
      "outputs": [
        {
          "output_type": "stream",
          "name": "stderr",
          "text": [
            "[nltk_data] Downloading package stopwords to /root/nltk_data...\n",
            "[nltk_data]   Unzipping corpora/stopwords.zip.\n"
          ]
        },
        {
          "output_type": "execute_result",
          "data": {
            "text/plain": [
              "True"
            ]
          },
          "metadata": {},
          "execution_count": 23
        }
      ]
    },
    {
      "cell_type": "code",
      "source": [
        "print(stopwords.words('english'))"
      ],
      "metadata": {
        "colab": {
          "base_uri": "https://localhost:8080/"
        },
        "id": "ysddRzXs2WtZ",
        "outputId": "7965be87-704c-49b2-bb84-2750c01525c0"
      },
      "execution_count": 24,
      "outputs": [
        {
          "output_type": "stream",
          "name": "stdout",
          "text": [
            "['i', 'me', 'my', 'myself', 'we', 'our', 'ours', 'ourselves', 'you', \"you're\", \"you've\", \"you'll\", \"you'd\", 'your', 'yours', 'yourself', 'yourselves', 'he', 'him', 'his', 'himself', 'she', \"she's\", 'her', 'hers', 'herself', 'it', \"it's\", 'its', 'itself', 'they', 'them', 'their', 'theirs', 'themselves', 'what', 'which', 'who', 'whom', 'this', 'that', \"that'll\", 'these', 'those', 'am', 'is', 'are', 'was', 'were', 'be', 'been', 'being', 'have', 'has', 'had', 'having', 'do', 'does', 'did', 'doing', 'a', 'an', 'the', 'and', 'but', 'if', 'or', 'because', 'as', 'until', 'while', 'of', 'at', 'by', 'for', 'with', 'about', 'against', 'between', 'into', 'through', 'during', 'before', 'after', 'above', 'below', 'to', 'from', 'up', 'down', 'in', 'out', 'on', 'off', 'over', 'under', 'again', 'further', 'then', 'once', 'here', 'there', 'when', 'where', 'why', 'how', 'all', 'any', 'both', 'each', 'few', 'more', 'most', 'other', 'some', 'such', 'no', 'nor', 'not', 'only', 'own', 'same', 'so', 'than', 'too', 'very', 's', 't', 'can', 'will', 'just', 'don', \"don't\", 'should', \"should've\", 'now', 'd', 'll', 'm', 'o', 're', 've', 'y', 'ain', 'aren', \"aren't\", 'couldn', \"couldn't\", 'didn', \"didn't\", 'doesn', \"doesn't\", 'hadn', \"hadn't\", 'hasn', \"hasn't\", 'haven', \"haven't\", 'isn', \"isn't\", 'ma', 'mightn', \"mightn't\", 'mustn', \"mustn't\", 'needn', \"needn't\", 'shan', \"shan't\", 'shouldn', \"shouldn't\", 'wasn', \"wasn't\", 'weren', \"weren't\", 'won', \"won't\", 'wouldn', \"wouldn't\"]\n"
          ]
        }
      ]
    },
    {
      "cell_type": "code",
      "source": [
        "stop_words = stopwords.words('english')"
      ],
      "metadata": {
        "id": "gh4LLaFe4FtW"
      },
      "execution_count": 27,
      "outputs": []
    },
    {
      "cell_type": "code",
      "source": [
        "txt = \"hey, what are you doing?\"\n",
        "txt2 = \"This is not a good time to talk. can we do it now\"\n",
        "txt = word_tokenize(txt2)"
      ],
      "metadata": {
        "id": "0fRM9y_02f2N"
      },
      "execution_count": 32,
      "outputs": []
    },
    {
      "cell_type": "code",
      "source": [
        "txt"
      ],
      "metadata": {
        "colab": {
          "base_uri": "https://localhost:8080/"
        },
        "id": "hdcpvsdJ3xm9",
        "outputId": "dcb9ba10-9f2c-438a-a5a7-8a34a90f09b1"
      },
      "execution_count": 33,
      "outputs": [
        {
          "output_type": "execute_result",
          "data": {
            "text/plain": [
              "['This',\n",
              " 'is',\n",
              " 'not',\n",
              " 'a',\n",
              " 'good',\n",
              " 'time',\n",
              " 'to',\n",
              " 'talk',\n",
              " '.',\n",
              " 'can',\n",
              " 'we',\n",
              " 'do',\n",
              " 'it',\n",
              " 'now']"
            ]
          },
          "metadata": {},
          "execution_count": 33
        }
      ]
    },
    {
      "cell_type": "code",
      "source": [
        "for word in  txt:\n",
        "  if((word.lower() not in  stop_words)and len(word)>=2):\n",
        "    print(word)"
      ],
      "metadata": {
        "colab": {
          "base_uri": "https://localhost:8080/"
        },
        "id": "B-CZ0pc23yfo",
        "outputId": "86657adf-9848-4706-b077-14546e3c0052"
      },
      "execution_count": 34,
      "outputs": [
        {
          "output_type": "stream",
          "name": "stdout",
          "text": [
            "good\n",
            "time\n",
            "talk\n"
          ]
        }
      ]
    },
    {
      "cell_type": "markdown",
      "source": [
        "Corpus & Vocabulary\n"
      ],
      "metadata": {
        "id": "ApXVHIUG5Z_l"
      }
    },
    {
      "cell_type": "code",
      "source": [
        "corpus = \"India, officially the Republic of India (Hindi: Bhārat Gaṇarājya),[25] is a country in South Asia. It is the seventh-largest country by area and the second-most populous country. Bounded by the Indian Ocean on the south, the Arabian Sea on the southwest, and the Bay of Bengal on the southeast, it shares land borders with Pakistan to the west;[h] China, Nepal, and Bhutan to the north; and Bangladesh and Myanmar to the east. In the Indian Ocean, India is in the vicinity of Sri Lanka and the Maldives; its Andaman and Nicobar Islands share a maritime border with Thailand, Myanmar, and Indonesia.Modern humans arrived on the Indian subcontinent from Africa no later than 55,000 years ago.[26][27][28] Their long occupation, initially in varying forms of isolation as hunter-gatherers, has made the region highly diverse, second only to Africa in human genetic diversity.[29] Settled life emerged on the subcontinent in the western margins of the Indus river basin 9,000 years ago, evolving gradually into the Indus Valley Civilisation of the third millennium BCE.[30] By 1200 BCE, an archaic form of Sanskrit, an Indo-European language, had diffused into India from the northwest.[31][32] Its evidence today is found in the hymns of the Rigveda. Preserved by a resolutely vigilant oral tradition, the Rigveda records the dawning of Hinduism in India.[33] The Dravidian languages of India were supplanted in the northern and western regions.[34] By 400 BCE, stratification and exclusion by caste had emerged within Hinduism,[35] and Buddhism and Jainism had arisen, proclaiming social orders unlinked to heredity.[36] Early political consolidations gave rise to the loose-knit Maurya and Gupta Empires based in the Ganges Basin.[37] Their collective era was suffused with wide-ranging creativity,[38] but also marked by the declining status of women,[39] and the incorporation of untouchability into an organised system of belief.[i][40] In South India, the Middle kingdoms exported Dravidian-languages scripts and religious cultures to the kingdoms of Southeast Asia.[41]\""
      ],
      "metadata": {
        "id": "fWzjcT5u4Kwc"
      },
      "execution_count": 36,
      "outputs": []
    },
    {
      "cell_type": "markdown",
      "source": [
        "StopWords Removal\n"
      ],
      "metadata": {
        "id": "_IqpFGhV9GPX"
      }
    },
    {
      "cell_type": "code",
      "source": [
        "words = []\n",
        "for word in word_tokenize(corpus):\n",
        "  if((word.lower() not in  stop_words)and len(word)>=2):\n",
        "    words.append(word.lower())"
      ],
      "metadata": {
        "id": "KqKes6V883g-"
      },
      "execution_count": 37,
      "outputs": []
    },
    {
      "cell_type": "code",
      "source": [
        "voc = list(set(words))"
      ],
      "metadata": {
        "id": "JnN7vATe9hdr"
      },
      "execution_count": 38,
      "outputs": []
    },
    {
      "cell_type": "code",
      "source": [
        "len(voc)"
      ],
      "metadata": {
        "colab": {
          "base_uri": "https://localhost:8080/"
        },
        "id": "SxArfCd49lHK",
        "outputId": "a28f47af-0552-4edb-a063-aa41b2eb9d0a"
      },
      "execution_count": 40,
      "outputs": [
        {
          "output_type": "execute_result",
          "data": {
            "text/plain": [
              "174"
            ]
          },
          "metadata": {},
          "execution_count": 40
        }
      ]
    },
    {
      "cell_type": "code",
      "source": [
        "len(words)"
      ],
      "metadata": {
        "colab": {
          "base_uri": "https://localhost:8080/"
        },
        "id": "aM64dqOc9may",
        "outputId": "e4a75e57-433d-4428-f23f-f355cf807089"
      },
      "execution_count": 41,
      "outputs": [
        {
          "output_type": "execute_result",
          "data": {
            "text/plain": [
              "203"
            ]
          },
          "metadata": {},
          "execution_count": 41
        }
      ]
    },
    {
      "cell_type": "markdown",
      "source": [
        "Vocabulary with Keras\n"
      ],
      "metadata": {
        "id": "fXOHOFxX-PLi"
      }
    },
    {
      "cell_type": "markdown",
      "source": [
        "Out-Of-Vocabulary (OOV) : Word is a Linguistic Unit or a token that does not appear in training vocabulary or document."
      ],
      "metadata": {
        "id": "CDMkQp1zBBif"
      }
    },
    {
      "cell_type": "code",
      "source": [
        "from keras.preprocessing.text import Tokenizer\n",
        "tok = Tokenizer(oov_token=\"black\")"
      ],
      "metadata": {
        "id": "u_8ewqHO9s6s"
      },
      "execution_count": 60,
      "outputs": []
    },
    {
      "cell_type": "code",
      "source": [
        "corp = [\"coffe is hot\",\"water is cold\"]\n",
        "tok.fit_on_texts(corp)"
      ],
      "metadata": {
        "id": "NCc5QVvn-bOC"
      },
      "execution_count": 61,
      "outputs": []
    },
    {
      "cell_type": "code",
      "source": [
        "tok.word_index"
      ],
      "metadata": {
        "colab": {
          "base_uri": "https://localhost:8080/"
        },
        "id": "Z6DwHVbj_NUM",
        "outputId": "3535d4d8-de58-451d-d283-bfc2a3d9f624"
      },
      "execution_count": 62,
      "outputs": [
        {
          "output_type": "execute_result",
          "data": {
            "text/plain": [
              "{'black': 1, 'is': 2, 'coffe': 3, 'hot': 4, 'water': 5, 'cold': 6}"
            ]
          },
          "metadata": {},
          "execution_count": 62
        }
      ]
    },
    {
      "cell_type": "code",
      "source": [
        "tok.texts_to_sequences([\"coffe is hot\",\"black water is cold\"])"
      ],
      "metadata": {
        "colab": {
          "base_uri": "https://localhost:8080/"
        },
        "id": "ei2hqsSg_T56",
        "outputId": "1a65717d-e39d-4da3-ab46-4147adf9e8d5"
      },
      "execution_count": 63,
      "outputs": [
        {
          "output_type": "execute_result",
          "data": {
            "text/plain": [
              "[[3, 2, 4], [1, 5, 2, 6]]"
            ]
          },
          "metadata": {},
          "execution_count": 63
        }
      ]
    },
    {
      "cell_type": "code",
      "source": [
        "tok.word_index"
      ],
      "metadata": {
        "colab": {
          "base_uri": "https://localhost:8080/"
        },
        "id": "dzcFPP-k_uvD",
        "outputId": "95d15bc9-3964-40c8-c214-8d665664da84"
      },
      "execution_count": 64,
      "outputs": [
        {
          "output_type": "execute_result",
          "data": {
            "text/plain": [
              "{'black': 1, 'is': 2, 'coffe': 3, 'hot': 4, 'water': 5, 'cold': 6}"
            ]
          },
          "metadata": {},
          "execution_count": 64
        }
      ]
    },
    {
      "cell_type": "markdown",
      "source": [
        "Limiting Words"
      ],
      "metadata": {
        "id": "AAvSd9wsBmwg"
      }
    },
    {
      "cell_type": "code",
      "source": [
        "from keras.preprocessing.text import Tokenizer\n",
        "tok = Tokenizer(num_words=4)\n",
        "corp = [\"coffe is hot\",\"water is cold\"]\n",
        "tok.fit_on_texts(corp)\n",
        "tok.word_index"
      ],
      "metadata": {
        "colab": {
          "base_uri": "https://localhost:8080/"
        },
        "id": "UVgr-9fCAWPn",
        "outputId": "e1253489-933f-468a-abe7-ee1535e63d91"
      },
      "execution_count": 65,
      "outputs": [
        {
          "output_type": "execute_result",
          "data": {
            "text/plain": [
              "{'is': 1, 'coffe': 2, 'hot': 3, 'water': 4, 'cold': 5}"
            ]
          },
          "metadata": {},
          "execution_count": 65
        }
      ]
    },
    {
      "cell_type": "code",
      "source": [],
      "metadata": {
        "id": "P9V8s5loB-pn"
      },
      "execution_count": null,
      "outputs": []
    }
  ]
}